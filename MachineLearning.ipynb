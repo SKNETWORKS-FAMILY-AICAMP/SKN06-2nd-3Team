{
 "cells": [
  {
   "cell_type": "code",
   "execution_count": null,
   "id": "3f34ee5f-1d50-40e8-b029-68567323120f",
   "metadata": {},
   "outputs": [],
   "source": [
    "# !pip install metrics\n",
    "# !pip install dataloader\n",
    "# !pip install lightgbm"
   ]
  },
  {
   "cell_type": "code",
   "execution_count": 1,
   "id": "d7a333dc-8776-4247-b15b-71e6ee9bbc21",
   "metadata": {},
   "outputs": [
    {
     "name": "stdout",
     "output_type": "stream",
     "text": [
      "Overwriting dataloader.py\n"
     ]
    }
   ],
   "source": [
    "%%writefile dataloader.py\n",
    "import pandas as pd\n",
    "\n",
    "def load_dataset():\n",
    "    # load dataset\n",
    "    data = pd.read_csv('dataset/train_result.csv')\n",
    "    # 컬럼명 소문자로 변경\n",
    "    data.columns = data.columns.str.lower()\n",
    "    # target 컬럼을 y로, 나머지를 X로\n",
    "    X = data.drop(columns='churn')\n",
    "    y = data['churn']\n",
    "    \n",
    "    return X, y\n",
    "    "
   ]
  },
  {
   "cell_type": "code",
   "execution_count": 2,
   "id": "67f09520-96c7-4783-99d2-bc862946c489",
   "metadata": {},
   "outputs": [],
   "source": [
    "from sklearn.model_selection import train_test_split\n",
    "from dataloader import load_dataset\n",
    "from sklearn.model_selection import train_test_split\n",
    "\n",
    "X, y = load_dataset()\n",
    "\n",
    "X_train, X_test, y_train, y_test = train_test_split(X, y, test_size=0.25, stratify=y, random_state=0)\n",
    "X_train, X_valid, y_train, y_valid = train_test_split(X_train, y_train, test_size=0.25, stratify=y_train, random_state=0)"
   ]
  },
  {
   "cell_type": "markdown",
   "id": "e3f3ef6d-6d37-47f2-961b-f52b2feba523",
   "metadata": {},
   "source": [
    "DecisionTreeClassifier "
   ]
  },
  {
   "cell_type": "code",
   "execution_count": 7,
   "id": "b6043936-1116-44da-82a3-aaf814e539e9",
   "metadata": {},
   "outputs": [
    {
     "name": "stdout",
     "output_type": "stream",
     "text": [
      "F1 Score: 0.41683899556868537\n",
      "Classification Report:\n",
      "               precision    recall  f1-score   support\n",
      "\n",
      "           0       0.76      0.60      0.67      6658\n",
      "           1       0.34      0.53      0.42      2671\n",
      "\n",
      "    accuracy                           0.58      9329\n",
      "   macro avg       0.55      0.56      0.54      9329\n",
      "weighted avg       0.64      0.58      0.60      9329\n",
      "\n",
      "Confusion Matrix:\n",
      " [[3970 2688]\n",
      " [1260 1411]]\n",
      "ROC-AUC Score: 0.5981627201097106\n"
     ]
    }
   ],
   "source": [
    "from sklearn.tree import DecisionTreeClassifier\n",
    "from sklearn.metrics import f1_score, classification_report, confusion_matrix, roc_auc_score\n",
    "\n",
    "# Train Decision Tree Classifier\n",
    "dt_model = DecisionTreeClassifier(max_depth=10, random_state=42, class_weight='balanced')\n",
    "dt_model.fit(X_train_scaled, y_train)\n",
    "\n",
    "# Validate on validation set\n",
    "y_valid_pred_dt = dt_model.predict(X_valid_scaled)\n",
    "f1_dt = f1_score(y_valid, y_valid_pred_dt)\n",
    "classification_rep_dt = classification_report(y_valid, y_valid_pred_dt)\n",
    "conf_matrix_dt = confusion_matrix(y_valid, y_valid_pred_dt)\n",
    "roc_auc_dt = roc_auc_score(y_valid, dt_model.predict_proba(X_valid_scaled)[:, 1])\n",
    "\n",
    "# Display results\n",
    "print(\"F1 Score:\", f1_dt)\n",
    "print(\"Classification Report:\\n\", classification_rep_dt)\n",
    "print(\"Confusion Matrix:\\n\", conf_matrix_dt)\n",
    "print(\"ROC-AUC Score:\", roc_auc_dt)"
   ]
  },
  {
   "cell_type": "code",
   "execution_count": 8,
   "id": "76930645-011f-4858-994f-da05a4ef8bc3",
   "metadata": {},
   "outputs": [
    {
     "name": "stdout",
     "output_type": "stream",
     "text": [
      "F1 Score: 0.46174496644295304\n",
      "Classification Report:\n",
      "               precision    recall  f1-score   support\n",
      "\n",
      "           0       0.79      0.63      0.70      6658\n",
      "           1       0.38      0.58      0.46      2671\n",
      "\n",
      "    accuracy                           0.61      9329\n",
      "   macro avg       0.59      0.60      0.58      9329\n",
      "weighted avg       0.67      0.61      0.63      9329\n",
      "\n",
      "Confusion Matrix:\n",
      " [[4172 2486]\n",
      " [1123 1548]]\n",
      "ROC-AUC Score: 0.6478721476819154\n"
     ]
    }
   ],
   "source": [
    "#f1 점수를 따졌을 때 제일 높은 \n",
    "from sklearn.preprocessing import StandardScaler\n",
    "from sklearn.ensemble import RandomForestClassifier\n",
    "from sklearn.tree import DecisionTreeClassifier\n",
    "from sklearn.metrics import f1_score, classification_report, confusion_matrix, roc_auc_score\n",
    "# 데이터 스케일링\n",
    "scaler = StandardScaler()\n",
    "X_train_scaled = scaler.fit_transform(X_train)\n",
    "X_valid_scaled = scaler.transform(X_valid)\n",
    "X_test_scaled = scaler.transform(X_test)\n",
    "\n",
    "# Random Forest 모델 학습\n",
    "rf_model = RandomForestClassifier(n_estimators=100, max_depth=10, random_state=42, class_weight='balanced')\n",
    "rf_model.fit(X_train_scaled, y_train)\n",
    "\n",
    "# 검증 데이터로 평가\n",
    "y_valid_pred = rf_model.predict(X_valid_scaled)\n",
    "f1 = f1_score(y_valid, y_valid_pred)\n",
    "classification_rep = classification_report(y_valid, y_valid_pred)\n",
    "conf_matrix = confusion_matrix(y_valid, y_valid_pred)\n",
    "roc_auc = roc_auc_score(y_valid, rf_model.predict_proba(X_valid_scaled)[:, 1])\n",
    "\n",
    "# 결과 출력\n",
    "print(\"F1 Score:\", f1)\n",
    "print(\"Classification Report:\\n\", classification_rep)\n",
    "print(\"Confusion Matrix:\\n\", conf_matrix)\n",
    "print(\"ROC-AUC Score:\", roc_auc)"
   ]
  },
  {
   "cell_type": "code",
   "execution_count": 28,
   "id": "814964c8-4180-4df7-9556-e0fe25393bc4",
   "metadata": {},
   "outputs": [
    {
     "name": "stdout",
     "output_type": "stream",
     "text": [
      "F1 Score: 0.17418944691671964\n",
      "Classification Report:\n",
      "               precision    recall  f1-score   support\n",
      "\n",
      "           0       0.73      0.97      0.83      6658\n",
      "           1       0.58      0.10      0.17      2671\n",
      "\n",
      "    accuracy                           0.72      9329\n",
      "   macro avg       0.65      0.54      0.50      9329\n",
      "weighted avg       0.69      0.72      0.64      9329\n",
      "\n",
      "Confusion Matrix:\n",
      " [[6457  201]\n",
      " [2397  274]]\n",
      "ROC-AUC Score: 0.663851663096132\n"
     ]
    }
   ],
   "source": [
    "from sklearn.ensemble import GradientBoostingClassifier\n",
    "from sklearn.metrics import f1_score, classification_report, confusion_matrix, roc_auc_score\n",
    "\n",
    "# Gradient Boosting Classifier 모델 학습\n",
    "gb_model = GradientBoostingClassifier(n_estimators=100, learning_rate=0.1, max_depth=5, random_state=42)\n",
    "gb_model.fit(X_train_scaled, y_train)\n",
    "\n",
    "# 검증 데이터 평가\n",
    "y_valid_pred_gb = gb_model.predict(X_valid_scaled)\n",
    "f1_gb = f1_score(y_valid, y_valid_pred_gb)\n",
    "classification_rep_gb = classification_report(y_valid, y_valid_pred_gb)\n",
    "conf_matrix_gb = confusion_matrix(y_valid, y_valid_pred_gb)\n",
    "roc_auc_gb = roc_auc_score(y_valid, gb_model.predict_proba(X_valid_scaled)[:, 1])\n",
    "\n",
    "# 결과 출력\n",
    "print(\"F1 Score:\", f1_gb)\n",
    "print(\"Classification Report:\\n\", classification_rep_gb)\n",
    "print(\"Confusion Matrix:\\n\", conf_matrix_gb)\n",
    "print(\"ROC-AUC Score:\", roc_auc_gb)"
   ]
  },
  {
   "cell_type": "code",
   "execution_count": 26,
   "id": "5ddcd0fc-566a-472c-9be6-434811dfaf72",
   "metadata": {},
   "outputs": [
    {
     "name": "stdout",
     "output_type": "stream",
     "text": [
      "[LightGBM] [Info] Number of positive: 8013, number of negative: 19972\n",
      "[LightGBM] [Info] Auto-choosing row-wise multi-threading, the overhead of testing was 0.004257 seconds.\n",
      "You can set `force_row_wise=true` to remove the overhead.\n",
      "And if memory is not enough, you can set `force_col_wise=true`.\n",
      "[LightGBM] [Info] Total Bins 2881\n",
      "[LightGBM] [Info] Number of data points in the train set: 27985, number of used features: 48\n",
      "[LightGBM] [Info] [binary:BoostFromScore]: pavg=0.286332 -> initscore=-0.913266\n",
      "[LightGBM] [Info] Start training from score -0.913266\n",
      "F1 Score: 0.16159025328630972\n",
      "Classification Report:\n",
      "               precision    recall  f1-score   support\n",
      "\n",
      "           0       0.73      0.97      0.83      6658\n",
      "           1       0.56      0.09      0.16      2671\n",
      "\n",
      "    accuracy                           0.72      9329\n",
      "   macro avg       0.65      0.53      0.50      9329\n",
      "weighted avg       0.68      0.72      0.64      9329\n",
      "\n",
      "Confusion Matrix:\n",
      " [[6462  196]\n",
      " [2419  252]]\n",
      "ROC-AUC Score: 0.6616818449532877\n"
     ]
    }
   ],
   "source": [
    "from lightgbm import LGBMClassifier\n",
    "from sklearn.metrics import f1_score, classification_report, confusion_matrix, roc_auc_score\n",
    "\n",
    "# Train LGBM Classifier\n",
    "lgbm_model = LGBMClassifier(random_state=42)\n",
    "lgbm_model.fit(X_train_scaled, y_train)\n",
    "\n",
    "# Validate on validation set\n",
    "y_valid_pred_lgbm = lgbm_model.predict(X_valid_scaled)\n",
    "f1_lgbm = f1_score(y_valid, y_valid_pred_lgbm)\n",
    "classification_rep_lgbm = classification_report(y_valid, y_valid_pred_lgbm)\n",
    "conf_matrix_lgbm = confusion_matrix(y_valid, y_valid_pred_lgbm)\n",
    "roc_auc_lgbm = roc_auc_score(y_valid, lgbm_model.predict_proba(X_valid_scaled)[:, 1])\n",
    "\n",
    "# Display results\n",
    "print(\"F1 Score:\", f1_lgbm)\n",
    "print(\"Classification Report:\\n\", classification_rep_lgbm)\n",
    "print(\"Confusion Matrix:\\n\", conf_matrix_lgbm)\n",
    "print(\"ROC-AUC Score:\", roc_auc_lgbm)"
   ]
  },
  {
   "cell_type": "code",
   "execution_count": 9,
   "id": "149db4c3-d142-4a83-b06a-2116e3046467",
   "metadata": {},
   "outputs": [
    {
     "name": "stdout",
     "output_type": "stream",
     "text": [
      "F1 Score: 0.21530864197530863\n",
      "Classification Report:\n",
      "               precision    recall  f1-score   support\n",
      "\n",
      "           0       0.72      0.86      0.78      6658\n",
      "           1       0.32      0.16      0.22      2671\n",
      "\n",
      "    accuracy                           0.66      9329\n",
      "   macro avg       0.52      0.51      0.50      9329\n",
      "weighted avg       0.60      0.66      0.62      9329\n",
      "\n",
      "Confusion Matrix:\n",
      " [[5715  943]\n",
      " [2235  436]]\n",
      "ROC-AUC Score: 0.523255409868846\n"
     ]
    }
   ],
   "source": [
    "from sklearn.neighbors import KNeighborsClassifier\n",
    "from sklearn.metrics import f1_score, classification_report, confusion_matrix, roc_auc_score\n",
    "\n",
    "# Train K-Nearest Neighbors Classifier\n",
    "knn_model = KNeighborsClassifier(n_neighbors=5)  # Default is 5 neighbors\n",
    "knn_model.fit(X_train_scaled, y_train)\n",
    "\n",
    "# Validate on validation set\n",
    "y_valid_pred_knn = knn_model.predict(X_valid_scaled)\n",
    "f1_knn = f1_score(y_valid, y_valid_pred_knn)\n",
    "classification_rep_knn = classification_report(y_valid, y_valid_pred_knn)\n",
    "conf_matrix_knn = confusion_matrix(y_valid, y_valid_pred_knn)\n",
    "roc_auc_knn = roc_auc_score(y_valid, knn_model.predict_proba(X_valid_scaled)[:, 1])\n",
    "\n",
    "# Display results\n",
    "print(\"F1 Score:\", f1_knn)\n",
    "print(\"Classification Report:\\n\", classification_rep_knn)\n",
    "print(\"Confusion Matrix:\\n\", conf_matrix_knn)\n",
    "print(\"ROC-AUC Score:\", roc_auc_knn)"
   ]
  },
  {
   "cell_type": "code",
   "execution_count": 27,
   "id": "13e18046-9599-4a35-bab7-e6cc11a5bbb9",
   "metadata": {},
   "outputs": [
    {
     "name": "stdout",
     "output_type": "stream",
     "text": [
      "F1 Score: 0.4401646574536901\n",
      "Classification Report:\n",
      "               precision    recall  f1-score   support\n",
      "\n",
      "           0       0.77      0.60      0.68      6658\n",
      "           1       0.36      0.56      0.44      2671\n",
      "\n",
      "    accuracy                           0.59      9329\n",
      "   macro avg       0.57      0.58      0.56      9329\n",
      "weighted avg       0.66      0.59      0.61      9329\n",
      "\n",
      "Confusion Matrix:\n",
      " [[4024 2634]\n",
      " [1174 1497]]\n",
      "ROC-AUC Score: 0.6028884161165411\n"
     ]
    }
   ],
   "source": [
    "from sklearn.linear_model import LogisticRegression\n",
    "from sklearn.metrics import f1_score, classification_report, confusion_matrix, roc_auc_score\n",
    "\n",
    "# Logistic Regression 모델 학습\n",
    "logreg_model = LogisticRegression(random_state=42, class_weight='balanced', max_iter=500)\n",
    "logreg_model.fit(X_train_scaled, y_train)\n",
    "\n",
    "# 검증 데이터 평가\n",
    "y_valid_pred_logreg = logreg_model.predict(X_valid_scaled)\n",
    "f1_logreg = f1_score(y_valid, y_valid_pred_logreg)\n",
    "classification_rep_logreg = classification_report(y_valid, y_valid_pred_logreg)\n",
    "conf_matrix_logreg = confusion_matrix(y_valid, y_valid_pred_logreg)\n",
    "roc_auc_logreg = roc_auc_score(y_valid, logreg_model.predict_proba(X_valid_scaled)[:, 1])\n",
    "\n",
    "# 결과 출력\n",
    "print(\"F1 Score:\", f1_logreg)\n",
    "print(\"Classification Report:\\n\", classification_rep_logreg)\n",
    "print(\"Confusion Matrix:\\n\", conf_matrix_logreg)\n",
    "print(\"ROC-AUC Score:\", roc_auc_logreg)"
   ]
  },
  {
   "cell_type": "code",
   "execution_count": 10,
   "id": "c8629ba8-280b-493b-8b1c-ad5dbb3d5efa",
   "metadata": {},
   "outputs": [
    {
     "name": "stdout",
     "output_type": "stream",
     "text": [
      "Fitting 3 folds for each of 50 candidates, totalling 150 fits\n"
     ]
    }
   ],
   "source": [
    "#이중 f1점수가 가장 높았던 RF로 RandomizedSearchCV\n",
    "from sklearn.model_selection import RandomizedSearchCV\n",
    "from sklearn.ensemble import RandomForestClassifier\n",
    "import numpy as np\n",
    "\n",
    "# 하이퍼파라미터 그리드 설정\n",
    "param_distributions = {\n",
    "    'n_estimators': [50, 100, 200, 300],\n",
    "    'max_depth': [5, 10, 20, None],\n",
    "    'min_samples_split': [2, 5, 10],\n",
    "    'min_samples_leaf': [1, 2, 4],\n",
    "    'max_features': ['sqrt', 'log2', None],\n",
    "    'bootstrap': [True, False],\n",
    "    'class_weight': ['balanced', 'balanced_subsample']\n",
    "}\n",
    "\n",
    "# Random Forest 모델 초기화\n",
    "rf_model = RandomForestClassifier(random_state=42)\n",
    "\n",
    "# RandomizedSearchCV 설정\n",
    "random_search = RandomizedSearchCV(\n",
    "    estimator=rf_model,\n",
    "    param_distributions=param_distributions,\n",
    "    n_iter=50,  # 탐색할 설정 수\n",
    "    scoring='f1',\n",
    "    cv=3,\n",
    "    verbose=2,\n",
    "    random_state=42,\n",
    "    n_jobs=-1\n",
    ")\n",
    "\n",
    "# 학습 수행\n",
    "random_search.fit(X_train_scaled, y_train)\n",
    "\n",
    "# 최적 하이퍼파라미터 및 성능 출력\n",
    "best_params = random_search.best_params_\n",
    "best_score = random_search.best_score_"
   ]
  },
  {
   "cell_type": "code",
   "execution_count": 11,
   "id": "87a9e484-ad43-430e-9270-7c29701a4475",
   "metadata": {},
   "outputs": [
    {
     "name": "stdout",
     "output_type": "stream",
     "text": [
      "RandomForestClassifier Best parameters: {'n_estimators': 100, 'min_samples_split': 2, 'min_samples_leaf': 4, 'max_features': None, 'max_depth': 5, 'class_weight': 'balanced_subsample', 'bootstrap': True}\n"
     ]
    }
   ],
   "source": [
    "## Best parameter 확인\n",
    "print(\"RandomForestClassifier Best parameters:\", random_search.best_params_)\n",
    "# print(\"XGBClassifier Best parameters:\", random_search_xgb.best_params_)"
   ]
  },
  {
   "cell_type": "code",
   "execution_count": 12,
   "id": "99e7c846-8a3f-40a1-988c-788269927d70",
   "metadata": {},
   "outputs": [
    {
     "name": "stdout",
     "output_type": "stream",
     "text": [
      "RandomForestClassifier Best score: 0.4756734519287527\n"
     ]
    }
   ],
   "source": [
    "print(\"RandomForestClassifier Best score:\", random_search.best_score_)\n",
    "# print(\"XGBClassifier Best score:\", random_search_xgb.best_score_)"
   ]
  },
  {
   "cell_type": "code",
   "execution_count": 16,
   "id": "c68d9b26-21ac-4eb8-a00e-396663601446",
   "metadata": {},
   "outputs": [],
   "source": [
    "best_RF = random_search.best_estimator_\n",
    "# best_xgb = random_search_xgb.best_estimator_"
   ]
  },
  {
   "cell_type": "code",
   "execution_count": 17,
   "id": "a02c90b7-ea5e-49ad-85cd-c81102f89dd4",
   "metadata": {},
   "outputs": [],
   "source": [
    "import joblib\n",
    "import os\n",
    "\n",
    "os.makedirs('models', exist_ok=True)"
   ]
  },
  {
   "cell_type": "code",
   "execution_count": 18,
   "id": "f0238a58-e3ee-433c-bf1c-862aa46c7137",
   "metadata": {},
   "outputs": [
    {
     "name": "stdout",
     "output_type": "stream",
     "text": [
      "Models saved successfully.\n"
     ]
    }
   ],
   "source": [
    "import joblib\n",
    "joblib.dump(best_RF, 'models/best_RF.pkl')\n",
    "# joblib.dump(best_xgb, 'models/best_xgb.pkl')\n",
    "\n",
    "print(\"Models saved successfully.\")"
   ]
  },
  {
   "cell_type": "code",
   "execution_count": 10,
   "id": "2835fcf1-5803-4ee3-b8b0-8fcb6d41e6cb",
   "metadata": {},
   "outputs": [],
   "source": [
    "from joblib import dump, load\n",
    "\n",
    "best_dtree = load('models/best_dtree.pkl')\n",
    "best_xgb = load('models/best_xgb.pkl')\n"
   ]
  },
  {
   "cell_type": "code",
   "execution_count": 24,
   "id": "ffc7e0f9-dd40-4931-b049-e377fb3b4a13",
   "metadata": {},
   "outputs": [
    {
     "name": "stdout",
     "output_type": "stream",
     "text": [
      "평가 RandomForestClassifier...\n"
     ]
    }
   ],
   "source": [
    "best_models = [\n",
    "    (\"RandomForestClassifier\", best_RF),\n",
    "    # (\"XGBClassifier\", best_xgb)\n",
    "]\n",
    "\n",
    "test_results = {}\n",
    "\n",
    "for name, model in best_models:\n",
    "    print(f\"평가 {name}...\")\n",
    "    pred_test = model.predict(X_test_scaled)\n",
    "    pred_proba_test = model.predict_proba(X_test_scaled)[:, 1]\n",
    "\n",
    "    accuracy_test = accuracy_score(y_test, pred_test)\n",
    "    precision_test = precision_score(y_test, pred_test)\n",
    "    recall_test = recall_score(y_test, pred_test)\n",
    "    f1_test = f1_score(y_test, pred_test)\n",
    "    auc_test = roc_auc_score(y_test, pred_proba_test)\n",
    "    \n",
    "    test_results[name] = [accuracy_test, precision_test, recall_test, f1_test, auc_test]"
   ]
  },
  {
   "cell_type": "code",
   "execution_count": 25,
   "id": "481a2d23-c1ed-46c6-9b5b-fb743b0d4eac",
   "metadata": {},
   "outputs": [
    {
     "data": {
      "text/html": [
       "<div>\n",
       "<style scoped>\n",
       "    .dataframe tbody tr th:only-of-type {\n",
       "        vertical-align: middle;\n",
       "    }\n",
       "\n",
       "    .dataframe tbody tr th {\n",
       "        vertical-align: top;\n",
       "    }\n",
       "\n",
       "    .dataframe thead th {\n",
       "        text-align: right;\n",
       "    }\n",
       "</style>\n",
       "<table border=\"1\" class=\"dataframe\">\n",
       "  <thead>\n",
       "    <tr style=\"text-align: right;\">\n",
       "      <th></th>\n",
       "      <th>RandomForestClassifier</th>\n",
       "    </tr>\n",
       "  </thead>\n",
       "  <tbody>\n",
       "    <tr>\n",
       "      <th>accuracy</th>\n",
       "      <td>0.533205</td>\n",
       "    </tr>\n",
       "    <tr>\n",
       "      <th>precision</th>\n",
       "      <td>0.350751</td>\n",
       "    </tr>\n",
       "    <tr>\n",
       "      <th>recall</th>\n",
       "      <td>0.740803</td>\n",
       "    </tr>\n",
       "    <tr>\n",
       "      <th>f1</th>\n",
       "      <td>0.476087</td>\n",
       "    </tr>\n",
       "    <tr>\n",
       "      <th>roc-auc</th>\n",
       "      <td>0.643545</td>\n",
       "    </tr>\n",
       "  </tbody>\n",
       "</table>\n",
       "</div>"
      ],
      "text/plain": [
       "           RandomForestClassifier\n",
       "accuracy                 0.533205\n",
       "precision                0.350751\n",
       "recall                   0.740803\n",
       "f1                       0.476087\n",
       "roc-auc                  0.643545"
      ]
     },
     "execution_count": 25,
     "metadata": {},
     "output_type": "execute_result"
    }
   ],
   "source": [
    "pd.DataFrame(test_results, index=['accuracy', 'precision', 'recall', 'f1', 'roc-auc'])"
   ]
  },
  {
   "cell_type": "code",
   "execution_count": 22,
   "id": "93e6df05-f5d4-4fb8-8b08-2d891c0fa989",
   "metadata": {},
   "outputs": [
    {
     "data": {
      "text/plain": [
       "<sklearn.metrics._plot.confusion_matrix.ConfusionMatrixDisplay at 0x27373bb8a70>"
      ]
     },
     "execution_count": 22,
     "metadata": {},
     "output_type": "execute_result"
    },
    {
     "data": {
      "image/png": "[encoded data removed]",
      "text/plain": [
       "<Figure size 640x480 with 2 Axes>"
      ]
     },
     "metadata": {},
     "output_type": "display_data"
    }
   ],
   "source": [
    "from sklearn.metrics import confusion_matrix, ConfusionMatrixDisplay\n",
    "cm = confusion_matrix(y_test, pred_test)\n",
    "ConfusionMatrixDisplay(cm).plot()"
   ]
  },
  {
   "cell_type": "code",
   "execution_count": null,
   "id": "c7d745e6-e02b-4708-ab38-4d4c6911a50b",
   "metadata": {},
   "outputs": [],
   "source": []
  }
 ],
 "metadata": {
  "kernelspec": {
   "display_name": "Python 3 (ipykernel)",
   "language": "python",
   "name": "python3"
  },
  "language_info": {
   "codemirror_mode": {
    "name": "ipython",
    "version": 3
   },
   "file_extension": ".py",
   "mimetype": "text/x-python",
   "name": "python",
   "nbconvert_exporter": "python",
   "pygments_lexer": "ipython3",
   "version": "3.12.7"
  }
 },
 "nbformat": 4,
 "nbformat_minor": 5
}
