{
 "cells": [
  {
   "cell_type": "code",
   "execution_count": 12,
   "id": "aac7bda6-f3db-4d54-9bdb-303cc6b6609a",
   "metadata": {},
   "outputs": [],
   "source": [
    "import pandas as pd\n",
    "import matplotlib.pyplot as plt\n",
    "\n",
    "# 데이터 로드\n",
    "data = pd.read_csv('./dataset/convert.csv')"
   ]
  },
  {
   "cell_type": "code",
   "execution_count": 14,
   "id": "66cf5135-d2ad-447a-9710-87252940bc1b",
   "metadata": {},
   "outputs": [
    {
     "name": "stdout",
     "output_type": "stream",
     "text": [
      "   Churn  MonthlyRevenue  MonthlyMinutes  TotalRecurringCharge  \\\n",
      "0      1           24.00           219.0                  22.0   \n",
      "1      1           16.99            10.0                  17.0   \n",
      "2      0           38.00             8.0                  38.0   \n",
      "3      0           82.28          1312.0                  75.0   \n",
      "4      1           17.14             0.0                  17.0   \n",
      "\n",
      "   DirectorAssistedCalls  OverageMinutes  RoamingCalls  PercChangeMinutes  \\\n",
      "0                   0.25             0.0           0.0             -157.0   \n",
      "1                   0.00             0.0           0.0               -4.0   \n",
      "2                   0.00             0.0           0.0               -2.0   \n",
      "3                   1.24             0.0           0.0              157.0   \n",
      "4                   0.00             0.0           0.0                0.0   \n",
      "\n",
      "   PercChangeRevenues  DroppedCalls  ...  PrizmCode_Suburban  PrizmCode_Town  \\\n",
      "0               -19.0           0.7  ...                 1.0             0.0   \n",
      "1                 0.0           0.3  ...                 1.0             0.0   \n",
      "2                 0.0           0.0  ...                 0.0             1.0   \n",
      "3                 8.1          52.0  ...                 0.0             0.0   \n",
      "4                -0.2           0.0  ...                 0.0             0.0   \n",
      "\n",
      "   Occupation_Clerical  Occupation_Crafts  Occupation_Homemaker  \\\n",
      "0                  0.0                0.0                   0.0   \n",
      "1                  0.0                0.0                   0.0   \n",
      "2                  0.0                1.0                   0.0   \n",
      "3                  0.0                0.0                   0.0   \n",
      "4                  0.0                0.0                   0.0   \n",
      "\n",
      "   Occupation_Other  Occupation_Professional  Occupation_Retired  \\\n",
      "0               0.0                      1.0                 0.0   \n",
      "1               0.0                      1.0                 0.0   \n",
      "2               0.0                      0.0                 0.0   \n",
      "3               1.0                      0.0                 0.0   \n",
      "4               0.0                      1.0                 0.0   \n",
      "\n",
      "   Occupation_Self  Occupation_Student  \n",
      "0              0.0                 0.0  \n",
      "1              0.0                 0.0  \n",
      "2              0.0                 0.0  \n",
      "3              0.0                 0.0  \n",
      "4              0.0                 0.0  \n",
      "\n",
      "[5 rows x 53 columns]\n"
     ]
    }
   ],
   "source": [
    "data = data.drop(columns=['ServiceArea'])\n",
    "\n",
    "# 컬럼 삭제 확인\n",
    "print(data.head())"
   ]
  },
  {
   "cell_type": "code",
   "execution_count": 21,
   "id": "b021e9ae-0d6d-488d-90a9-aebfe7d8d3b1",
   "metadata": {},
   "outputs": [
    {
     "name": "stdout",
     "output_type": "stream",
     "text": [
      "torch.Size([40524, 52]) torch.Size([40524, 1])\n"
     ]
    }
   ],
   "source": [
    "import torch\n",
    "import torch.nn as nn\n",
    "from torch.utils.data import DataLoader \n",
    "from torchvision import datasets, transforms\n",
    "from sklearn.model_selection import train_test_split\n",
    "from sklearn.preprocessing import StandardScaler\n",
    "\n",
    "# 특징과 레이블 분리\n",
    "X = data.drop(columns=['Churn']).values\n",
    "y = data['Churn'].values\n",
    "\n",
    "# 학습/검증 데이터 분할\n",
    "X_train, X_val, y_train, y_val = train_test_split(X, y, test_size=0.2, random_state=42)\n",
    "\n",
    "# 데이터 정규화\n",
    "scaler = StandardScaler()\n",
    "X_train = scaler.fit_transform(X_train)\n",
    "X_val = scaler.transform(X_val)\n",
    "\n",
    "# PyTorch 텐서로 변환\n",
    "X_train_tensor = torch.tensor(X_train, dtype=torch.float32)\n",
    "y_train_tensor = torch.tensor(y_train, dtype=torch.float32).view(-1, 1)\n",
    "X_val_tensor = torch.tensor(X_val, dtype=torch.float32)\n",
    "y_val_tensor = torch.tensor(y_val, dtype=torch.float32).view(-1, 1)\n",
    "\n",
    "print(X_train_tensor.shape, y_train_tensor.shape)  # 텐서 크기 확인\n"
   ]
  },
  {
   "cell_type": "code",
   "execution_count": 22,
   "id": "60b8d23c-c740-41ca-ad0e-4fb653cc2b78",
   "metadata": {},
   "outputs": [],
   "source": [
    "import torch.nn as nn\n",
    "\n",
    "# 모델 정의\n",
    "class BinaryClassificationModel(nn.Module):\n",
    "    def __init__(self, input_dim):\n",
    "        super(BinaryClassificationModel, self).__init__()\n",
    "        # 1. 은닉층 정의\n",
    "        self.layer1 = nn.Linear(input_dim, 64)  # 입력 차원 -> 64차원 은닉층\n",
    "        self.layer2 = nn.Linear(64, 32)         # 64차원 -> 32차원 은닉층\n",
    "        \n",
    "        # 2. 출력층 정의 (이진 분류이므로 출력 차원은 1)\n",
    "        self.output = nn.Linear(32, 1)\n",
    "        \n",
    "        # 활성화 함수 정의\n",
    "        self.relu = nn.ReLU()     # 은닉층에 사용할 ReLU 활성화 함수\n",
    "        self.sigmoid = nn.Sigmoid()  # 이진 분류 출력을 위한 Sigmoid 함수\n",
    "\n",
    "    def forward(self, x):\n",
    "        # 입력 x를 각 계층을 통과시키며 순전파 수행\n",
    "        x = self.relu(self.layer1(x))   # 첫 번째 은닉층을 통과하고 ReLU 적용\n",
    "        x = self.relu(self.layer2(x))   # 두 번째 은닉층을 통과하고 ReLU 적용\n",
    "        x = self.sigmoid(self.output(x))  # 출력층 통과 후 Sigmoid로 확률로 변환\n",
    "        return x\n",
    "# 모델 초기화\n",
    "input_dim = X_train_tensor.shape[1]  # 입력 차원 설정 (특징 개수)\n",
    "model = BinaryClassificationModel(input_dim)"
   ]
  },
  {
   "cell_type": "code",
   "execution_count": 23,
   "id": "6cd8ec69-53fb-4999-97be-b00285a92b86",
   "metadata": {},
   "outputs": [],
   "source": [
    "import torch.optim as optim\n",
    "\n",
    "# 손실 함수와 최적화기 정의\n",
    "criterion = nn.BCELoss()  # 이진 교차 엔트로피 손실 함수\n",
    "optimizer = optim.Adam(model.parameters(), lr=0.001)\n"
   ]
  },
  {
   "cell_type": "code",
   "execution_count": null,
   "id": "d7491278-77b1-41e0-92cd-5352a35f7815",
   "metadata": {},
   "outputs": [
    {
     "name": "stdout",
     "output_type": "stream",
     "text": [
      "Epoch [10/1000], Loss: 0.0130\n",
      "Epoch [20/1000], Loss: 0.0130\n",
      "Epoch [30/1000], Loss: 0.0130\n",
      "Epoch [40/1000], Loss: 0.0130\n",
      "Epoch [50/1000], Loss: 0.0129\n",
      "Epoch [60/1000], Loss: 0.0129\n",
      "Epoch [70/1000], Loss: 0.0130\n",
      "Epoch [80/1000], Loss: 0.0129\n",
      "Epoch [90/1000], Loss: 0.0129\n",
      "Epoch [100/1000], Loss: 0.0129\n",
      "Epoch [110/1000], Loss: 0.0129\n",
      "Epoch [120/1000], Loss: 0.0130\n",
      "Epoch [130/1000], Loss: 0.0130\n",
      "Epoch [140/1000], Loss: 0.0129\n",
      "Epoch [150/1000], Loss: 0.0129\n",
      "Epoch [160/1000], Loss: 0.0129\n",
      "Epoch [170/1000], Loss: 0.0129\n",
      "Epoch [180/1000], Loss: 0.0129\n",
      "Epoch [190/1000], Loss: 0.0129\n",
      "Epoch [200/1000], Loss: 0.0129\n",
      "Epoch [210/1000], Loss: 0.0128\n",
      "Epoch [220/1000], Loss: 0.0128\n",
      "Epoch [230/1000], Loss: 0.0128\n",
      "Epoch [240/1000], Loss: 0.0129\n",
      "Epoch [250/1000], Loss: 0.0128\n",
      "Epoch [260/1000], Loss: 0.0129\n",
      "Epoch [270/1000], Loss: 0.0129\n",
      "Epoch [280/1000], Loss: 0.0128\n",
      "Epoch [290/1000], Loss: 0.0130\n",
      "Epoch [300/1000], Loss: 0.0128\n",
      "Epoch [310/1000], Loss: 0.0129\n",
      "Epoch [320/1000], Loss: 0.0129\n",
      "Epoch [330/1000], Loss: 0.0128\n",
      "Epoch [340/1000], Loss: 0.0128\n",
      "Epoch [350/1000], Loss: 0.0128\n",
      "Epoch [360/1000], Loss: 0.0128\n",
      "Epoch [370/1000], Loss: 0.0128\n",
      "Epoch [380/1000], Loss: 0.0129\n",
      "Epoch [390/1000], Loss: 0.0128\n",
      "Epoch [400/1000], Loss: 0.0128\n"
     ]
    }
   ],
   "source": [
    "# 학습 설정\n",
    "num_epochs = 1000\n",
    "batch_size = 32\n",
    "\n",
    "# 학습 루프\n",
    "for epoch in range(num_epochs):\n",
    "    model.train()  # 모델을 학습 모드로 설정\n",
    "    epoch_loss = 0.0\n",
    "\n",
    "    # 미니배치 학습\n",
    "    for i in range(0, X_train_tensor.size(0), batch_size):\n",
    "        batch_X = X_train_tensor[i:i+batch_size]\n",
    "        batch_y = y_train_tensor[i:i+batch_size]\n",
    "\n",
    "        # 순전파\n",
    "        outputs = model(batch_X)\n",
    "        loss = criterion(outputs, batch_y)\n",
    "\n",
    "        # 역전파 및 최적화\n",
    "        optimizer.zero_grad()\n",
    "        loss.backward()\n",
    "        optimizer.step()\n",
    "\n",
    "        epoch_loss += loss.item()\n",
    "\n",
    "    # 에포크별 손실 출력\n",
    "    if epoch % 10 == 9:\n",
    "        print(f\"Epoch [{epoch+1}/{num_epochs}], Loss: {epoch_loss/len(X_train_tensor):.4f}\")\n"
   ]
  },
  {
   "cell_type": "code",
   "execution_count": null,
   "id": "6db6d10e-d50b-4e4b-91da-cdd779c82d74",
   "metadata": {},
   "outputs": [],
   "source": []
  }
 ],
 "metadata": {
  "kernelspec": {
   "display_name": "Python 3 (ipykernel)",
   "language": "python",
   "name": "python3"
  },
  "language_info": {
   "codemirror_mode": {
    "name": "ipython",
    "version": 3
   },
   "file_extension": ".py",
   "mimetype": "text/x-python",
   "name": "python",
   "nbconvert_exporter": "python",
   "pygments_lexer": "ipython3",
   "version": "3.11.10"
  }
 },
 "nbformat": 4,
 "nbformat_minor": 5
}
