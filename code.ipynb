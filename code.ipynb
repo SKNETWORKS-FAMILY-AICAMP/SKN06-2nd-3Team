{
 "cells": [
  {
   "cell_type": "code",
   "execution_count": 10,
   "id": "9f329973-baf0-40e1-bee1-778089b10171",
   "metadata": {},
   "outputs": [],
   "source": [
    "import pandas as pd\n",
    "import numpy as np\n",
    "from sklearn.preprocessing import StandardScaler, LabelEncoder\n",
    "\n",
    "# 데이터 로드\n",
    "traindf = pd.read_csv(\"./dataset/cell2celltrain.csv\")\n",
    "testdf = pd.read_csv(\"./dataset/cell2cellholdout.csv\")\n",
    "\n",
    "# 일부 열 제거 및 결측치 제거\n",
    "drop_col = ['CallForwardingCalls', 'ThreewayCalls', 'OffPeakCallsInOut', 'HandsetRefurbished', 'TruckOwner', 'RVOwner', 'BuysViaMailOrder', 'RespondsToMailOffers', 'OptOutMailings', 'OwnsComputer', 'OwnsMotorcycle']\n",
    "traindf = traindf.drop(columns=drop_col)\n",
    "testdf = testdf.drop(columns=drop_col)\n",
    "traindf.dropna(axis=0, inplace=True)\n",
    "\n",
    "# 데이터 전처리 열 지정\n",
    "remain_col = ['CustomerID', 'CallForwardingCalls','RetentionCalls','RetentionOffersAccepted','ReferralsMadeBySubscriber','AdjustmentsToCreditRating']\n",
    "number = traindf.select_dtypes(include=[np.number]).columns\n",
    "prenumber = [x for x in number if x not in remain_col]\n",
    "cate = [x for x in traindf.columns if x not in number]\n",
    "cate.pop(0) # target 열 제거\n",
    "precate = [x for x in cate if x not in remain_col]\n",
    "\n",
    "# 이상치 처리 함수\n",
    "def outlier_iqr(df, whis=2.0):\n",
    "    for i in df.columns:\n",
    "        X = df[i]\n",
    "        q1 = np.nanquantile(X, q=0.25)\n",
    "        q3 = np.nanquantile(X, q=0.75)\n",
    "        IQR = q3 - q1\n",
    "        lower_bound = q1 - IQR * whis\n",
    "        upper_bound = q3 + IQR * whis\n",
    "        \n",
    "        df.loc[df[i] < lower_bound, i] = X.median()\n",
    "        df.loc[df[i] > upper_bound, i] = X.median()\n",
    "    return df\n",
    "\n",
    "# 데이터 인코딩\n",
    "def encoding(df, numcol, catecol):\n",
    "    le = LabelEncoder()\n",
    "    df['Churn'] = le.fit_transform(df['Churn'])\n",
    "    for col in catecol:\n",
    "        df[col] = le.fit_transform(df[col])\n",
    "    \n",
    "    scaler = StandardScaler()\n",
    "    df[numcol] = scaler.fit_transform(df[numcol])\n",
    "    return df\n",
    "\n",
    "traindf[prenumber] = outlier_iqr(traindf[prenumber])\n",
    "traindf = encoding(traindf, prenumber, precate)\n",
    "traindf.to_csv(f\"./dataset/dataset_outlier_rm.csv\", index=False)"
   ]
  },
  {
   "cell_type": "code",
   "execution_count": 11,
   "id": "62bdfb98-2cc5-4b52-9052-c2f0cd14d6ba",
   "metadata": {},
   "outputs": [
    {
     "name": "stdout",
     "output_type": "stream",
     "text": [
      "Overwriting dataloader.py\n"
     ]
    }
   ],
   "source": [
    "%%writefile dataloader.py\n",
    "import pandas as pd\n",
    "\n",
    "def load_dataset():\n",
    "    # load dataset\n",
    "    data = pd.read_csv('./dataset/cell2celltrain.csv')\n",
    "    # 컬럼명 소문자로 변경\n",
    "    data.columns = data.columns.str.lower()\n",
    "    # target 컬럼을 y로, 나머지를 X로\n",
    "    X = data.drop(columns='churn')\n",
    "    y = data['churn']\n",
    "    \n",
    "    return X, y\n",
    "\n",
    "def load_testset():\n",
    "    data = pd.read_csv('./dataset/cell2cellholdout.csv')\n",
    "    data.columns = data.columns.str.lower()\n",
    "    # target 컬럼을 y로, 나머지를 X로\n",
    "    X = data.drop(columns='churn')\n",
    "    y = data['churn']\n",
    "\n",
    "    return X,y"
   ]
  },
  {
   "cell_type": "code",
   "execution_count": 14,
   "id": "67f09520-96c7-4783-99d2-bc862946c489",
   "metadata": {},
   "outputs": [],
   "source": [
    "from sklearn.model_selection import train_test_split\n",
    "from dataloader import load_dataset\n",
    "from dataloader import load_testset\n",
    "from sklearn.model_selection import train_test_split\n",
    "\n",
    "X, y = load_dataset()\n",
    "X_test, y_test = load_testset()\n",
    "\n",
    "X_train, X_valid, y_train, y_valid = train_test_split(X, y, test_size=0.25, stratify=y, random_state=0)"
   ]
  },
  {
   "cell_type": "code",
   "execution_count": 16,
   "id": "48b4e9fb-291f-468a-ad84-532b7c855d9b",
   "metadata": {},
   "outputs": [],
   "source": [
    "from sklearn.tree import DecisionTreeClassifier\n",
    "# tree = DecisionTreeClassifier(random_state=0)\n",
    "# tree.fit(X_train, y_train)"
   ]
  },
  {
   "cell_type": "code",
   "execution_count": 17,
   "id": "3f34ee5f-1d50-40e8-b029-68567323120f",
   "metadata": {},
   "outputs": [],
   "source": [
    "# !pip install metrics\n",
    "# !pip install dataloader"
   ]
  },
  {
   "cell_type": "code",
   "execution_count": 18,
   "id": "bfc405ac-bb10-48ed-b615-01e9ae833773",
   "metadata": {},
   "outputs": [],
   "source": [
    "from sklearn.linear_model import LogisticRegression\n",
    "from sklearn.ensemble import GradientBoostingClassifier, RandomForestClassifier\n",
    "from sklearn.neighbors import KNeighborsClassifier\n",
    "from xgboost import XGBClassifier\n",
    "\n",
    "from sklearn.metrics import accuracy_score, precision_score, recall_score, f1_score, roc_auc_score\n",
    "\n",
    "models = [\n",
    "    (\"LR\", LogisticRegression(random_state=0, max_iter=3000)),\n",
    "    (\"GBM\", GradientBoostingClassifier(random_state=0)),\n",
    "    (\"RF\", RandomForestClassifier(random_state=0)),\n",
    "    (\"KNN\", KNeighborsClassifier()),\n",
    "    (\"XGB\", XGBClassifier(random_state=0)),\n",
    "    (\"TREE\",DecisionTreeClassifier(random_state=0))\n",
    "]"
   ]
  },
  {
   "cell_type": "code",
   "execution_count": 19,
   "id": "faee1941-2a3a-4a1a-b7c0-968bb9e6fce6",
   "metadata": {},
   "outputs": [
    {
     "name": "stdout",
     "output_type": "stream",
     "text": [
      "Training LR...\n"
     ]
    },
    {
     "name": "stderr",
     "output_type": "stream",
     "text": [
      "C:\\Users\\User\\miniconda3\\envs\\ml\\Lib\\site-packages\\sklearn\\metrics\\_classification.py:1531: UndefinedMetricWarning: Precision is ill-defined and being set to 0.0 due to no predicted samples. Use `zero_division` parameter to control this behavior.\n",
      "  _warn_prf(average, modifier, f\"{metric.capitalize()} is\", len(result))\n"
     ]
    },
    {
     "name": "stdout",
     "output_type": "stream",
     "text": [
      "Training GBM...\n",
      "Training RF...\n",
      "Training KNN...\n",
      "Training XGB...\n",
      "Training TREE...\n"
     ]
    }
   ],
   "source": [
    "baseline_result_train_dict = {}\n",
    "baseline_result_valid_dict = {}\n",
    "\n",
    "\n",
    "for name, model in models:\n",
    "    print(f\"Training {name}...\")\n",
    "    model.fit(X_train, y_train)\n",
    "    \n",
    "    pred_valid = model.predict(X_valid)\n",
    "    pred_proba_valid = model.predict_proba(X_valid)[:, 1]\n",
    "\n",
    "    accuracy_valid = accuracy_score(y_valid, pred_valid)\n",
    "    precision_valid = precision_score(y_valid, pred_valid)\n",
    "    recall_valid = recall_score(y_valid, pred_valid)\n",
    "    f1_valid = f1_score(y_valid, pred_valid)\n",
    "    auc_valid = roc_auc_score(y_valid, pred_proba_valid)\n",
    "    \n",
    "    baseline_result_valid_dict[name] = [accuracy_valid, precision_valid, recall_valid, f1_valid, auc_valid]"
   ]
  },
  {
   "cell_type": "code",
   "execution_count": 12,
   "id": "f8ab2556-ced3-4ace-80ff-22d69be667af",
   "metadata": {},
   "outputs": [
    {
     "data": {
      "text/html": [
       "<div>\n",
       "<style scoped>\n",
       "    .dataframe tbody tr th:only-of-type {\n",
       "        vertical-align: middle;\n",
       "    }\n",
       "\n",
       "    .dataframe tbody tr th {\n",
       "        vertical-align: top;\n",
       "    }\n",
       "\n",
       "    .dataframe thead th {\n",
       "        text-align: right;\n",
       "    }\n",
       "</style>\n",
       "<table border=\"1\" class=\"dataframe\">\n",
       "  <thead>\n",
       "    <tr style=\"text-align: right;\">\n",
       "      <th></th>\n",
       "      <th>LR</th>\n",
       "      <th>GBM</th>\n",
       "      <th>RF</th>\n",
       "      <th>KNN</th>\n",
       "      <th>XGB</th>\n",
       "      <th>TREE</th>\n",
       "    </tr>\n",
       "  </thead>\n",
       "  <tbody>\n",
       "    <tr>\n",
       "      <th>accuracy</th>\n",
       "      <td>0.713137</td>\n",
       "      <td>0.721820</td>\n",
       "      <td>0.720855</td>\n",
       "      <td>0.651552</td>\n",
       "      <td>0.709037</td>\n",
       "      <td>0.621161</td>\n",
       "    </tr>\n",
       "    <tr>\n",
       "      <th>precision</th>\n",
       "      <td>0.333333</td>\n",
       "      <td>0.639889</td>\n",
       "      <td>0.607748</td>\n",
       "      <td>0.299845</td>\n",
       "      <td>0.477930</td>\n",
       "      <td>0.349385</td>\n",
       "    </tr>\n",
       "    <tr>\n",
       "      <th>recall</th>\n",
       "      <td>0.001966</td>\n",
       "      <td>0.064869</td>\n",
       "      <td>0.070486</td>\n",
       "      <td>0.162595</td>\n",
       "      <td>0.176355</td>\n",
       "      <td>0.374895</td>\n",
       "    </tr>\n",
       "    <tr>\n",
       "      <th>f1</th>\n",
       "      <td>0.003908</td>\n",
       "      <td>0.117797</td>\n",
       "      <td>0.126321</td>\n",
       "      <td>0.210852</td>\n",
       "      <td>0.257641</td>\n",
       "      <td>0.361691</td>\n",
       "    </tr>\n",
       "    <tr>\n",
       "      <th>roc-auc</th>\n",
       "      <td>0.589393</td>\n",
       "      <td>0.662326</td>\n",
       "      <td>0.644168</td>\n",
       "      <td>0.513366</td>\n",
       "      <td>0.645137</td>\n",
       "      <td>0.547423</td>\n",
       "    </tr>\n",
       "  </tbody>\n",
       "</table>\n",
       "</div>"
      ],
      "text/plain": [
       "                 LR       GBM        RF       KNN       XGB      TREE\n",
       "accuracy   0.713137  0.721820  0.720855  0.651552  0.709037  0.621161\n",
       "precision  0.333333  0.639889  0.607748  0.299845  0.477930  0.349385\n",
       "recall     0.001966  0.064869  0.070486  0.162595  0.176355  0.374895\n",
       "f1         0.003908  0.117797  0.126321  0.210852  0.257641  0.361691\n",
       "roc-auc    0.589393  0.662326  0.644168  0.513366  0.645137  0.547423"
      ]
     },
     "execution_count": 12,
     "metadata": {},
     "output_type": "execute_result"
    }
   ],
   "source": [
    "pd.DataFrame(baseline_result_valid_dict, index=['accuracy', 'precision', 'recall', 'f1', 'roc-auc'])"
   ]
  },
  {
   "cell_type": "code",
   "execution_count": 20,
   "id": "a02c90b7-ea5e-49ad-85cd-c81102f89dd4",
   "metadata": {},
   "outputs": [],
   "source": [
    "import joblib\n",
    "import os\n",
    "\n",
    "os.makedirs('models', exist_ok=True)"
   ]
  },
  {
   "cell_type": "code",
   "execution_count": 13,
   "id": "b5719057-c8b6-4a20-b4a2-2329efa9c4ce",
   "metadata": {
    "collapsed": true,
    "jupyter": {
     "outputs_hidden": true
    }
   },
   "outputs": [
    {
     "name": "stdout",
     "output_type": "stream",
     "text": [
      "GradientBoostingClassifier 튜닝...\n",
      "Unexpected exception formatting exception. Falling back to standard exception\n"
     ]
    },
    {
     "name": "stderr",
     "output_type": "stream",
     "text": [
      "Traceback (most recent call last):\n",
      "  File \"C:\\Users\\Playdata\\miniconda3\\envs\\ml\\Lib\\site-packages\\IPython\\core\\interactiveshell.py\", line 3577, in run_code\n",
      "    exec(code_obj, self.user_global_ns, self.user_ns)\n",
      "  File \"C:\\Users\\Playdata\\AppData\\Local\\Temp\\ipykernel_13004\\2276646693.py\", line 22, in <module>\n",
      "    random_search_gbm.fit(X_train, y_train)\n",
      "  File \"C:\\Users\\Playdata\\miniconda3\\envs\\ml\\Lib\\site-packages\\sklearn\\base.py\", line 1473, in wrapper\n",
      "    return fit_method(estimator, *args, **kwargs)\n",
      "           ^^^^^^^^^^^^^^^^^^^^^^^^^^^^^^^^^^^^^^\n",
      "  File \"C:\\Users\\Playdata\\miniconda3\\envs\\ml\\Lib\\site-packages\\sklearn\\model_selection\\_search.py\", line 1019, in fit\n",
      "    self._run_search(evaluate_candidates)\n",
      "  File \"C:\\Users\\Playdata\\miniconda3\\envs\\ml\\Lib\\site-packages\\sklearn\\model_selection\\_search.py\", line 1960, in _run_search\n",
      "    evaluate_candidates(\n",
      "  File \"C:\\Users\\Playdata\\miniconda3\\envs\\ml\\Lib\\site-packages\\sklearn\\model_selection\\_search.py\", line 965, in evaluate_candidates\n",
      "    out = parallel(\n",
      "          ^^^^^^^^^\n",
      "  File \"C:\\Users\\Playdata\\miniconda3\\envs\\ml\\Lib\\site-packages\\sklearn\\utils\\parallel.py\", line 74, in __call__\n",
      "    return super().__call__(iterable_with_config)\n",
      "           ^^^^^^^^^^^^^^^^^^^^^^^^^^^^^^^^^^^^^^\n",
      "  File \"C:\\Users\\Playdata\\miniconda3\\envs\\ml\\Lib\\site-packages\\joblib\\parallel.py\", line 2007, in __call__\n",
      "    return output if self.return_generator else list(output)\n",
      "                                                ^^^^^^^^^^^^\n",
      "  File \"C:\\Users\\Playdata\\miniconda3\\envs\\ml\\Lib\\site-packages\\joblib\\parallel.py\", line 1650, in _get_outputs\n",
      "    yield from self._retrieve()\n",
      "  File \"C:\\Users\\Playdata\\miniconda3\\envs\\ml\\Lib\\site-packages\\joblib\\parallel.py\", line 1762, in _retrieve\n",
      "    time.sleep(0.01)\n",
      "KeyboardInterrupt\n",
      "\n",
      "During handling of the above exception, another exception occurred:\n",
      "\n",
      "Traceback (most recent call last):\n",
      "  File \"C:\\Users\\Playdata\\miniconda3\\envs\\ml\\Lib\\site-packages\\IPython\\core\\interactiveshell.py\", line 2168, in showtraceback\n",
      "    stb = self.InteractiveTB.structured_traceback(\n",
      "          ^^^^^^^^^^^^^^^^^^^^^^^^^^^^^^^^^^^^^^^^\n",
      "  File \"C:\\Users\\Playdata\\miniconda3\\envs\\ml\\Lib\\site-packages\\IPython\\core\\ultratb.py\", line 1457, in structured_traceback\n",
      "    return FormattedTB.structured_traceback(\n",
      "           ^^^^^^^^^^^^^^^^^^^^^^^^^^^^^^^^^\n",
      "  File \"C:\\Users\\Playdata\\miniconda3\\envs\\ml\\Lib\\site-packages\\IPython\\core\\ultratb.py\", line 1348, in structured_traceback\n",
      "    return VerboseTB.structured_traceback(\n",
      "           ^^^^^^^^^^^^^^^^^^^^^^^^^^^^^^^\n",
      "  File \"C:\\Users\\Playdata\\miniconda3\\envs\\ml\\Lib\\site-packages\\IPython\\core\\ultratb.py\", line 1195, in structured_traceback\n",
      "    formatted_exception = self.format_exception_as_a_whole(etype, evalue, etb, number_of_lines_of_context,\n",
      "                          ^^^^^^^^^^^^^^^^^^^^^^^^^^^^^^^^^^^^^^^^^^^^^^^^^^^^^^^^^^^^^^^^^^^^^^^^^^^^^^^^\n",
      "  File \"C:\\Users\\Playdata\\miniconda3\\envs\\ml\\Lib\\site-packages\\IPython\\core\\ultratb.py\", line 1085, in format_exception_as_a_whole\n",
      "    self.get_records(etb, number_of_lines_of_context, tb_offset) if etb else []\n",
      "    ^^^^^^^^^^^^^^^^^^^^^^^^^^^^^^^^^^^^^^^^^^^^^^^^^^^^^^^^^^^^\n",
      "  File \"C:\\Users\\Playdata\\miniconda3\\envs\\ml\\Lib\\site-packages\\IPython\\core\\ultratb.py\", line 1137, in get_records\n",
      "    style = stack_data.style_with_executing_node(style, self.tb_highlight)\n",
      "            ^^^^^^^^^^^^^^^^^^^^^^^^^^^^^^^^^^^^^^^^^^^^^^^^^^^^^^^^^^^^^^\n",
      "  File \"C:\\Users\\Playdata\\miniconda3\\envs\\ml\\Lib\\site-packages\\stack_data\\core.py\", line 455, in style_with_executing_node\n",
      "    class NewStyle(style):\n",
      "  File \"C:\\Users\\Playdata\\miniconda3\\envs\\ml\\Lib\\site-packages\\pygments\\style.py\", line 91, in __new__\n",
      "    ndef[4] = colorformat(styledef[3:])\n",
      "              ^^^^^^^^^^^^^^^^^^^^^^^^^\n",
      "  File \"C:\\Users\\Playdata\\miniconda3\\envs\\ml\\Lib\\site-packages\\pygments\\style.py\", line 58, in colorformat\n",
      "    assert False, \"wrong color format %r\" % text\n",
      "           ^^^^^\n",
      "AssertionError: wrong color format 'ansiyellow'\n"
     ]
    }
   ],
   "source": [
    "from sklearn.model_selection import RandomizedSearchCV\n",
    "\n",
    "param_gbm = {\n",
    "    'learning_rate': [0.001, 0.01, 0.1, 0.2],\n",
    "    'n_estimators': [1000, 2000, 3000, 4000, 5000],\n",
    "    'max_depth': range(1, 6),\n",
    "    'subsample': [0.5, 0.6, 0.7, 0.8, 0.9, 1]\n",
    "}\n",
    "\n",
    "param_xgb = {\n",
    "    'learning_rate': [0.001, 0.01, 0.1, 0.2],\n",
    "    'n_estimators': [1000, 2000, 3000, 4000, 5000],\n",
    "    'max_depth': range(1, 6),\n",
    "    'subsample': [0.5, 0.6, 0.7, 0.8, 0.9, 1]\n",
    "}\n",
    "\n",
    "# Initialize RandomizedSearchCV for each model\n",
    "random_search_gbm = RandomizedSearchCV(GradientBoostingClassifier(random_state=0), param_gbm, cv=4, scoring='roc_auc', n_jobs=-1, n_iter=60, random_state=0)\n",
    "random_search_xgb = RandomizedSearchCV(XGBClassifier(random_state=0), param_xgb, cv=4, scoring='roc_auc', n_jobs=-1, n_iter=60, random_state=0)\n",
    "\n",
    "print(\"GradientBoostingClassifier 튜닝...\")\n",
    "random_search_gbm.fit(X_train, y_train)\n",
    "\n",
    "print(\"XGBClassifier 튜닝...\")\n",
    "random_search_xgb.fit(X_train, y_train);"
   ]
  },
  {
   "cell_type": "code",
   "execution_count": 4,
   "id": "c68d9b26-21ac-4eb8-a00e-396663601446",
   "metadata": {
    "collapsed": true,
    "jupyter": {
     "outputs_hidden": true
    }
   },
   "outputs": [
    {
     "name": "stdout",
     "output_type": "stream",
     "text": [
      "Unexpected exception formatting exception. Falling back to standard exception\n"
     ]
    },
    {
     "name": "stderr",
     "output_type": "stream",
     "text": [
      "Traceback (most recent call last):\n",
      "  File \"C:\\Users\\Playdata\\miniconda3\\envs\\ml\\Lib\\site-packages\\IPython\\core\\interactiveshell.py\", line 3577, in run_code\n",
      "    exec(code_obj, self.user_global_ns, self.user_ns)\n",
      "  File \"C:\\Users\\Playdata\\AppData\\Local\\Temp\\ipykernel_13004\\3945663569.py\", line 1, in <module>\n",
      "    best_gbm = random_search_gbm.best_estimator_\n",
      "               ^^^^^^^^^^^^^^^^^\n",
      "NameError: name 'random_search_gbm' is not defined\n",
      "\n",
      "During handling of the above exception, another exception occurred:\n",
      "\n",
      "Traceback (most recent call last):\n",
      "  File \"C:\\Users\\Playdata\\miniconda3\\envs\\ml\\Lib\\site-packages\\IPython\\core\\interactiveshell.py\", line 2168, in showtraceback\n",
      "    stb = self.InteractiveTB.structured_traceback(\n",
      "          ^^^^^^^^^^^^^^^^^^^^^^^^^^^^^^^^^^^^^^^^\n",
      "  File \"C:\\Users\\Playdata\\miniconda3\\envs\\ml\\Lib\\site-packages\\IPython\\core\\ultratb.py\", line 1457, in structured_traceback\n",
      "    return FormattedTB.structured_traceback(\n",
      "           ^^^^^^^^^^^^^^^^^^^^^^^^^^^^^^^^^\n",
      "  File \"C:\\Users\\Playdata\\miniconda3\\envs\\ml\\Lib\\site-packages\\IPython\\core\\ultratb.py\", line 1348, in structured_traceback\n",
      "    return VerboseTB.structured_traceback(\n",
      "           ^^^^^^^^^^^^^^^^^^^^^^^^^^^^^^^\n",
      "  File \"C:\\Users\\Playdata\\miniconda3\\envs\\ml\\Lib\\site-packages\\IPython\\core\\ultratb.py\", line 1195, in structured_traceback\n",
      "    formatted_exception = self.format_exception_as_a_whole(etype, evalue, etb, number_of_lines_of_context,\n",
      "                          ^^^^^^^^^^^^^^^^^^^^^^^^^^^^^^^^^^^^^^^^^^^^^^^^^^^^^^^^^^^^^^^^^^^^^^^^^^^^^^^^\n",
      "  File \"C:\\Users\\Playdata\\miniconda3\\envs\\ml\\Lib\\site-packages\\IPython\\core\\ultratb.py\", line 1085, in format_exception_as_a_whole\n",
      "    self.get_records(etb, number_of_lines_of_context, tb_offset) if etb else []\n",
      "    ^^^^^^^^^^^^^^^^^^^^^^^^^^^^^^^^^^^^^^^^^^^^^^^^^^^^^^^^^^^^\n",
      "  File \"C:\\Users\\Playdata\\miniconda3\\envs\\ml\\Lib\\site-packages\\IPython\\core\\ultratb.py\", line 1137, in get_records\n",
      "    style = stack_data.style_with_executing_node(style, self.tb_highlight)\n",
      "            ^^^^^^^^^^^^^^^^^^^^^^^^^^^^^^^^^^^^^^^^^^^^^^^^^^^^^^^^^^^^^^\n",
      "  File \"C:\\Users\\Playdata\\miniconda3\\envs\\ml\\Lib\\site-packages\\stack_data\\core.py\", line 455, in style_with_executing_node\n",
      "    class NewStyle(style):\n",
      "  File \"C:\\Users\\Playdata\\miniconda3\\envs\\ml\\Lib\\site-packages\\pygments\\style.py\", line 91, in __new__\n",
      "    ndef[4] = colorformat(styledef[3:])\n",
      "              ^^^^^^^^^^^^^^^^^^^^^^^^^\n",
      "  File \"C:\\Users\\Playdata\\miniconda3\\envs\\ml\\Lib\\site-packages\\pygments\\style.py\", line 58, in colorformat\n",
      "    assert False, \"wrong color format %r\" % text\n",
      "           ^^^^^\n",
      "AssertionError: wrong color format 'ansiyellow'\n"
     ]
    }
   ],
   "source": [
    "best_gbm = random_search_gbm.best_estimator_\n",
    "best_xgb = random_search_xgb.best_estimator_"
   ]
  },
  {
   "cell_type": "code",
   "execution_count": 3,
   "id": "f0238a58-e3ee-433c-bf1c-862aa46c7137",
   "metadata": {
    "collapsed": true,
    "jupyter": {
     "outputs_hidden": true
    }
   },
   "outputs": [
    {
     "name": "stdout",
     "output_type": "stream",
     "text": [
      "Unexpected exception formatting exception. Falling back to standard exception\n"
     ]
    },
    {
     "name": "stderr",
     "output_type": "stream",
     "text": [
      "Traceback (most recent call last):\n",
      "  File \"C:\\Users\\Playdata\\miniconda3\\envs\\ml\\Lib\\site-packages\\IPython\\core\\interactiveshell.py\", line 3577, in run_code\n",
      "    exec(code_obj, self.user_global_ns, self.user_ns)\n",
      "  File \"C:\\Users\\Playdata\\AppData\\Local\\Temp\\ipykernel_13004\\4074536209.py\", line 1, in <module>\n",
      "    joblib.dump(best_gbm, 'models/best_gbm.pkl')\n",
      "                ^^^^^^^^\n",
      "NameError: name 'best_gbm' is not defined\n",
      "\n",
      "During handling of the above exception, another exception occurred:\n",
      "\n",
      "Traceback (most recent call last):\n",
      "  File \"C:\\Users\\Playdata\\miniconda3\\envs\\ml\\Lib\\site-packages\\IPython\\core\\interactiveshell.py\", line 2168, in showtraceback\n",
      "    stb = self.InteractiveTB.structured_traceback(\n",
      "          ^^^^^^^^^^^^^^^^^^^^^^^^^^^^^^^^^^^^^^^^\n",
      "  File \"C:\\Users\\Playdata\\miniconda3\\envs\\ml\\Lib\\site-packages\\IPython\\core\\ultratb.py\", line 1457, in structured_traceback\n",
      "    return FormattedTB.structured_traceback(\n",
      "           ^^^^^^^^^^^^^^^^^^^^^^^^^^^^^^^^^\n",
      "  File \"C:\\Users\\Playdata\\miniconda3\\envs\\ml\\Lib\\site-packages\\IPython\\core\\ultratb.py\", line 1348, in structured_traceback\n",
      "    return VerboseTB.structured_traceback(\n",
      "           ^^^^^^^^^^^^^^^^^^^^^^^^^^^^^^^\n",
      "  File \"C:\\Users\\Playdata\\miniconda3\\envs\\ml\\Lib\\site-packages\\IPython\\core\\ultratb.py\", line 1195, in structured_traceback\n",
      "    formatted_exception = self.format_exception_as_a_whole(etype, evalue, etb, number_of_lines_of_context,\n",
      "                          ^^^^^^^^^^^^^^^^^^^^^^^^^^^^^^^^^^^^^^^^^^^^^^^^^^^^^^^^^^^^^^^^^^^^^^^^^^^^^^^^\n",
      "  File \"C:\\Users\\Playdata\\miniconda3\\envs\\ml\\Lib\\site-packages\\IPython\\core\\ultratb.py\", line 1085, in format_exception_as_a_whole\n",
      "    self.get_records(etb, number_of_lines_of_context, tb_offset) if etb else []\n",
      "    ^^^^^^^^^^^^^^^^^^^^^^^^^^^^^^^^^^^^^^^^^^^^^^^^^^^^^^^^^^^^\n",
      "  File \"C:\\Users\\Playdata\\miniconda3\\envs\\ml\\Lib\\site-packages\\IPython\\core\\ultratb.py\", line 1137, in get_records\n",
      "    style = stack_data.style_with_executing_node(style, self.tb_highlight)\n",
      "            ^^^^^^^^^^^^^^^^^^^^^^^^^^^^^^^^^^^^^^^^^^^^^^^^^^^^^^^^^^^^^^\n",
      "  File \"C:\\Users\\Playdata\\miniconda3\\envs\\ml\\Lib\\site-packages\\stack_data\\core.py\", line 455, in style_with_executing_node\n",
      "    class NewStyle(style):\n",
      "  File \"C:\\Users\\Playdata\\miniconda3\\envs\\ml\\Lib\\site-packages\\pygments\\style.py\", line 91, in __new__\n",
      "    ndef[4] = colorformat(styledef[3:])\n",
      "              ^^^^^^^^^^^^^^^^^^^^^^^^^\n",
      "  File \"C:\\Users\\Playdata\\miniconda3\\envs\\ml\\Lib\\site-packages\\pygments\\style.py\", line 58, in colorformat\n",
      "    assert False, \"wrong color format %r\" % text\n",
      "           ^^^^^\n",
      "AssertionError: wrong color format 'ansiyellow'\n"
     ]
    }
   ],
   "source": [
    "joblib.dump(best_gbm, 'models/best_gbm.pkl')\n",
    "joblib.dump(best_xgb, 'models/best_xgb.pkl')\n",
    "\n",
    "print(\"Models saved successfully.\")"
   ]
  },
  {
   "cell_type": "code",
   "execution_count": null,
   "id": "ffc7e0f9-dd40-4931-b049-e377fb3b4a13",
   "metadata": {},
   "outputs": [],
   "source": []
  }
 ],
 "metadata": {
  "kernelspec": {
   "display_name": "Python 3 (ipykernel)",
   "language": "python",
   "name": "python3"
  },
  "language_info": {
   "codemirror_mode": {
    "name": "ipython",
    "version": 3
   },
   "file_extension": ".py",
   "mimetype": "text/x-python",
   "name": "python",
   "nbconvert_exporter": "python",
   "pygments_lexer": "ipython3",
   "version": "3.11.10"
  }
 },
 "nbformat": 4,
 "nbformat_minor": 5
}
