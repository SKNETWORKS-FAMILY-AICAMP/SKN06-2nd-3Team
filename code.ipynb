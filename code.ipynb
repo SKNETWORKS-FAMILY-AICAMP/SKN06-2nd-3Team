{
 "cells": [
  {
   "cell_type": "code",
   "execution_count": null,
   "id": "3f34ee5f-1d50-40e8-b029-68567323120f",
   "metadata": {},
   "outputs": [],
   "source": [
    "# !pip install metrics\n",
    "# !pip install dataloader\n",
    "# !pip install lightgbm"
   ]
  },
  {
   "cell_type": "code",
   "execution_count": 13,
   "id": "dc184598-eddf-4209-8e1e-836a09be0593",
   "metadata": {
    "scrolled": true
   },
   "outputs": [
    {
     "name": "stderr",
     "output_type": "stream",
     "text": [
      "C:\\3team_2nd\\process_encoding.py:8: FutureWarning: Downcasting behavior in `replace` is deprecated and will be removed in a future version. To retain the old behavior, explicitly call `result.infer_objects(copy=False)`. To opt-in to the future behavior, set `pd.set_option('future.no_silent_downcasting', True)`\n",
      "  X.Churn = X.Churn.replace(\"No\", 0)\n",
      "C:\\3team_2nd\\process_encoding.py:31: FutureWarning: Downcasting behavior in `replace` is deprecated and will be removed in a future version. To retain the old behavior, explicitly call `result.infer_objects(copy=False)`. To opt-in to the future behavior, set `pd.set_option('future.no_silent_downcasting', True)`\n",
      "  X.CreditRating = X.CreditRating.replace(\"7-Lowest\", 7)\n"
     ]
    },
    {
     "data": {
      "text/html": [
       "<div>\n",
       "<style scoped>\n",
       "    .dataframe tbody tr th:only-of-type {\n",
       "        vertical-align: middle;\n",
       "    }\n",
       "\n",
       "    .dataframe tbody tr th {\n",
       "        vertical-align: top;\n",
       "    }\n",
       "\n",
       "    .dataframe thead th {\n",
       "        text-align: right;\n",
       "    }\n",
       "</style>\n",
       "<table border=\"1\" class=\"dataframe\">\n",
       "  <thead>\n",
       "    <tr style=\"text-align: right;\">\n",
       "      <th></th>\n",
       "      <th>Churn</th>\n",
       "      <th>MonthlyRevenue</th>\n",
       "      <th>MonthlyMinutes</th>\n",
       "      <th>TotalRecurringCharge</th>\n",
       "      <th>DirectorAssistedCalls</th>\n",
       "      <th>OverageMinutes</th>\n",
       "      <th>RoamingCalls</th>\n",
       "      <th>PercChangeMinutes</th>\n",
       "      <th>PercChangeRevenues</th>\n",
       "      <th>DroppedCalls</th>\n",
       "      <th>...</th>\n",
       "      <th>Occupation_Professional</th>\n",
       "      <th>Occupation_Retired</th>\n",
       "      <th>Occupation_Self</th>\n",
       "      <th>Occupation_Student</th>\n",
       "      <th>ServiceArea_Center</th>\n",
       "      <th>ServiceArea_East</th>\n",
       "      <th>ServiceArea_West</th>\n",
       "      <th>ServiceArea_None</th>\n",
       "      <th>BuysViaMailOrder_No</th>\n",
       "      <th>BuysViaMailOrder_Yes</th>\n",
       "    </tr>\n",
       "  </thead>\n",
       "  <tbody>\n",
       "    <tr>\n",
       "      <th>0</th>\n",
       "      <td>1</td>\n",
       "      <td>24.00</td>\n",
       "      <td>219.0</td>\n",
       "      <td>22.0</td>\n",
       "      <td>0.25</td>\n",
       "      <td>0.0</td>\n",
       "      <td>0.0</td>\n",
       "      <td>-157.0</td>\n",
       "      <td>-19.0</td>\n",
       "      <td>0.7</td>\n",
       "      <td>...</td>\n",
       "      <td>1.0</td>\n",
       "      <td>0.0</td>\n",
       "      <td>0.0</td>\n",
       "      <td>0.0</td>\n",
       "      <td>0.0</td>\n",
       "      <td>0.0</td>\n",
       "      <td>1.0</td>\n",
       "      <td>0.0</td>\n",
       "      <td>0.0</td>\n",
       "      <td>1.0</td>\n",
       "    </tr>\n",
       "    <tr>\n",
       "      <th>1</th>\n",
       "      <td>1</td>\n",
       "      <td>16.99</td>\n",
       "      <td>10.0</td>\n",
       "      <td>17.0</td>\n",
       "      <td>0.00</td>\n",
       "      <td>0.0</td>\n",
       "      <td>0.0</td>\n",
       "      <td>-4.0</td>\n",
       "      <td>0.0</td>\n",
       "      <td>0.3</td>\n",
       "      <td>...</td>\n",
       "      <td>1.0</td>\n",
       "      <td>0.0</td>\n",
       "      <td>0.0</td>\n",
       "      <td>0.0</td>\n",
       "      <td>0.0</td>\n",
       "      <td>1.0</td>\n",
       "      <td>0.0</td>\n",
       "      <td>0.0</td>\n",
       "      <td>0.0</td>\n",
       "      <td>1.0</td>\n",
       "    </tr>\n",
       "    <tr>\n",
       "      <th>2</th>\n",
       "      <td>0</td>\n",
       "      <td>38.00</td>\n",
       "      <td>8.0</td>\n",
       "      <td>38.0</td>\n",
       "      <td>0.00</td>\n",
       "      <td>0.0</td>\n",
       "      <td>0.0</td>\n",
       "      <td>-2.0</td>\n",
       "      <td>0.0</td>\n",
       "      <td>0.0</td>\n",
       "      <td>...</td>\n",
       "      <td>0.0</td>\n",
       "      <td>0.0</td>\n",
       "      <td>0.0</td>\n",
       "      <td>0.0</td>\n",
       "      <td>0.0</td>\n",
       "      <td>0.0</td>\n",
       "      <td>0.0</td>\n",
       "      <td>1.0</td>\n",
       "      <td>1.0</td>\n",
       "      <td>0.0</td>\n",
       "    </tr>\n",
       "    <tr>\n",
       "      <th>3</th>\n",
       "      <td>0</td>\n",
       "      <td>82.28</td>\n",
       "      <td>1312.0</td>\n",
       "      <td>75.0</td>\n",
       "      <td>1.24</td>\n",
       "      <td>0.0</td>\n",
       "      <td>0.0</td>\n",
       "      <td>157.0</td>\n",
       "      <td>8.1</td>\n",
       "      <td>7.7</td>\n",
       "      <td>...</td>\n",
       "      <td>0.0</td>\n",
       "      <td>0.0</td>\n",
       "      <td>0.0</td>\n",
       "      <td>0.0</td>\n",
       "      <td>0.0</td>\n",
       "      <td>1.0</td>\n",
       "      <td>0.0</td>\n",
       "      <td>0.0</td>\n",
       "      <td>0.0</td>\n",
       "      <td>1.0</td>\n",
       "    </tr>\n",
       "    <tr>\n",
       "      <th>4</th>\n",
       "      <td>1</td>\n",
       "      <td>17.14</td>\n",
       "      <td>0.0</td>\n",
       "      <td>17.0</td>\n",
       "      <td>0.00</td>\n",
       "      <td>0.0</td>\n",
       "      <td>0.0</td>\n",
       "      <td>0.0</td>\n",
       "      <td>-0.2</td>\n",
       "      <td>0.0</td>\n",
       "      <td>...</td>\n",
       "      <td>1.0</td>\n",
       "      <td>0.0</td>\n",
       "      <td>0.0</td>\n",
       "      <td>0.0</td>\n",
       "      <td>0.0</td>\n",
       "      <td>0.0</td>\n",
       "      <td>0.0</td>\n",
       "      <td>1.0</td>\n",
       "      <td>0.0</td>\n",
       "      <td>1.0</td>\n",
       "    </tr>\n",
       "  </tbody>\n",
       "</table>\n",
       "<p>5 rows × 59 columns</p>\n",
       "</div>"
      ],
      "text/plain": [
       "   Churn  MonthlyRevenue  MonthlyMinutes  TotalRecurringCharge  \\\n",
       "0      1           24.00           219.0                  22.0   \n",
       "1      1           16.99            10.0                  17.0   \n",
       "2      0           38.00             8.0                  38.0   \n",
       "3      0           82.28          1312.0                  75.0   \n",
       "4      1           17.14             0.0                  17.0   \n",
       "\n",
       "   DirectorAssistedCalls  OverageMinutes  RoamingCalls  PercChangeMinutes  \\\n",
       "0                   0.25             0.0           0.0             -157.0   \n",
       "1                   0.00             0.0           0.0               -4.0   \n",
       "2                   0.00             0.0           0.0               -2.0   \n",
       "3                   1.24             0.0           0.0              157.0   \n",
       "4                   0.00             0.0           0.0                0.0   \n",
       "\n",
       "   PercChangeRevenues  DroppedCalls  ...  Occupation_Professional  \\\n",
       "0               -19.0           0.7  ...                      1.0   \n",
       "1                 0.0           0.3  ...                      1.0   \n",
       "2                 0.0           0.0  ...                      0.0   \n",
       "3                 8.1           7.7  ...                      0.0   \n",
       "4                -0.2           0.0  ...                      1.0   \n",
       "\n",
       "   Occupation_Retired  Occupation_Self  Occupation_Student  \\\n",
       "0                 0.0              0.0                 0.0   \n",
       "1                 0.0              0.0                 0.0   \n",
       "2                 0.0              0.0                 0.0   \n",
       "3                 0.0              0.0                 0.0   \n",
       "4                 0.0              0.0                 0.0   \n",
       "\n",
       "   ServiceArea_Center  ServiceArea_East  ServiceArea_West  ServiceArea_None  \\\n",
       "0                 0.0               0.0               1.0               0.0   \n",
       "1                 0.0               1.0               0.0               0.0   \n",
       "2                 0.0               0.0               0.0               1.0   \n",
       "3                 0.0               1.0               0.0               0.0   \n",
       "4                 0.0               0.0               0.0               1.0   \n",
       "\n",
       "   BuysViaMailOrder_No  BuysViaMailOrder_Yes  \n",
       "0                  0.0                   1.0  \n",
       "1                  0.0                   1.0  \n",
       "2                  1.0                   0.0  \n",
       "3                  0.0                   1.0  \n",
       "4                  0.0                   1.0  \n",
       "\n",
       "[5 rows x 59 columns]"
      ]
     },
     "execution_count": 13,
     "metadata": {},
     "output_type": "execute_result"
    }
   ],
   "source": [
    "import process_encoding as pe\n",
    "df = pe.load_df()\n",
    "df.head()"
   ]
  },
  {
   "cell_type": "code",
   "execution_count": 14,
   "id": "b37eda7d-387f-4f79-aee5-adcc98e34274",
   "metadata": {},
   "outputs": [],
   "source": [
    "df.to_csv(f\"dataset/encoded_data.csv\", index=False)\n",
    "# df.ServiceArea.valuecount()"
   ]
  },
  {
   "cell_type": "code",
   "execution_count": 15,
   "id": "d7a333dc-8776-4247-b15b-71e6ee9bbc21",
   "metadata": {},
   "outputs": [
    {
     "name": "stdout",
     "output_type": "stream",
     "text": [
      "Overwriting dataloader.py\n"
     ]
    }
   ],
   "source": [
    "%%writefile dataloader.py\n",
    "import pandas as pd\n",
    "\n",
    "def load_dataset():\n",
    "    # load dataset\n",
    "    data = pd.read_csv('dataset/train_result.csv')\n",
    "    # 컬럼명 소문자로 변경\n",
    "    data.columns = data.columns.str.lower()\n",
    "    # target 컬럼을 y로, 나머지를 X로\n",
    "    X = data.drop(columns='churn')\n",
    "    y = data['churn']\n",
    "    \n",
    "    return X, y\n",
    "    "
   ]
  },
  {
   "cell_type": "code",
   "execution_count": 16,
   "id": "67f09520-96c7-4783-99d2-bc862946c489",
   "metadata": {},
   "outputs": [],
   "source": [
    "from sklearn.model_selection import train_test_split\n",
    "from dataloader import load_dataset\n",
    "from dataloader import load_testset\n",
    "from sklearn.model_selection import train_test_split\n",
    "\n",
    "X, y = load_dataset()\n",
    "\n",
    "X_train, X_test, y_train, y_test = train_test_split(X, y, test_size=0.25, stratify=y, random_state=0)\n",
    "X_train, X_valid, y_train, y_valid = train_test_split(X_train, y_train, test_size=0.25, stratify=y_train, random_state=0)"
   ]
  },
  {
   "cell_type": "code",
   "execution_count": 17,
   "id": "bfc405ac-bb10-48ed-b615-01e9ae833773",
   "metadata": {},
   "outputs": [],
   "source": [
    "from sklearn.tree import DecisionTreeClassifier\n",
    "from sklearn.linear_model import LogisticRegression\n",
    "from sklearn.ensemble import GradientBoostingClassifier, RandomForestClassifier\n",
    "from sklearn.neighbors import KNeighborsClassifier\n",
    "from xgboost import XGBClassifier\n",
    "from lightgbm import LGBMClassifier\n",
    "\n",
    "from sklearn.metrics import accuracy_score, precision_score, recall_score, f1_score, roc_auc_score\n",
    "\n",
    "models = [\n",
    "    (\"LR\", LogisticRegression(random_state=0, max_iter=3000)),\n",
    "    (\"GBM\", GradientBoostingClassifier(random_state=0)),\n",
    "    (\"RF\", RandomForestClassifier(random_state=0)),\n",
    "    (\"KNN\", KNeighborsClassifier()),\n",
    "    (\"XGB\", XGBClassifier(random_state=0)),\n",
    "    (\"TREE\",DecisionTreeClassifier(random_state=0)),\n",
    "    (\"LGBM\", LGBMClassifier(random_state=0))\n",
    "]"
   ]
  },
  {
   "cell_type": "code",
   "execution_count": 18,
   "id": "faee1941-2a3a-4a1a-b7c0-968bb9e6fce6",
   "metadata": {},
   "outputs": [
    {
     "name": "stdout",
     "output_type": "stream",
     "text": [
      "Training LR...\n"
     ]
    },
    {
     "name": "stderr",
     "output_type": "stream",
     "text": [
      "C:\\Users\\Playdata\\miniconda3\\envs\\ml\\Lib\\site-packages\\sklearn\\linear_model\\_logistic.py:469: ConvergenceWarning: lbfgs failed to converge (status=1):\n",
      "STOP: TOTAL NO. of ITERATIONS REACHED LIMIT.\n",
      "\n",
      "Increase the number of iterations (max_iter) or scale the data as shown in:\n",
      "    https://scikit-learn.org/stable/modules/preprocessing.html\n",
      "Please also refer to the documentation for alternative solver options:\n",
      "    https://scikit-learn.org/stable/modules/linear_model.html#logistic-regression\n",
      "  n_iter_i = _check_optimize_result(\n"
     ]
    },
    {
     "name": "stdout",
     "output_type": "stream",
     "text": [
      "Training GBM...\n",
      "Training RF...\n",
      "Training KNN...\n",
      "Training XGB...\n",
      "Training TREE...\n",
      "Training LGBM...\n",
      "[LightGBM] [Info] Number of positive: 8013, number of negative: 19972\n",
      "[LightGBM] [Info] Auto-choosing row-wise multi-threading, the overhead of testing was 0.008210 seconds.\n",
      "You can set `force_row_wise=true` to remove the overhead.\n",
      "And if memory is not enough, you can set `force_col_wise=true`.\n",
      "[LightGBM] [Info] Total Bins 2878\n",
      "[LightGBM] [Info] Number of data points in the train set: 27985, number of used features: 48\n",
      "[LightGBM] [Info] [binary:BoostFromScore]: pavg=0.286332 -> initscore=-0.913266\n",
      "[LightGBM] [Info] Start training from score -0.913266\n"
     ]
    }
   ],
   "source": [
    "baseline_result_train_dict = {}\n",
    "baseline_result_valid_dict = {}\n",
    "\n",
    "\n",
    "for name, model in models:\n",
    "    print(f\"Training {name}...\")\n",
    "    model.fit(X_train, y_train)\n",
    "    \n",
    "    pred_valid = model.predict(X_valid)\n",
    "    pred_proba_valid = model.predict_proba(X_valid)[:, 1]\n",
    "\n",
    "    accuracy_valid = accuracy_score(y_valid, pred_valid)\n",
    "    precision_valid = precision_score(y_valid, pred_valid)\n",
    "    recall_valid = recall_score(y_valid, pred_valid)\n",
    "    f1_valid = f1_score(y_valid, pred_valid)\n",
    "    auc_valid = roc_auc_score(y_valid, pred_proba_valid)\n",
    "    \n",
    "    baseline_result_valid_dict[name] = [accuracy_valid, precision_valid, recall_valid, f1_valid, auc_valid]"
   ]
  },
  {
   "cell_type": "code",
   "execution_count": 19,
   "id": "f8ab2556-ced3-4ace-80ff-22d69be667af",
   "metadata": {},
   "outputs": [
    {
     "data": {
      "text/html": [
       "<div>\n",
       "<style scoped>\n",
       "    .dataframe tbody tr th:only-of-type {\n",
       "        vertical-align: middle;\n",
       "    }\n",
       "\n",
       "    .dataframe tbody tr th {\n",
       "        vertical-align: top;\n",
       "    }\n",
       "\n",
       "    .dataframe thead th {\n",
       "        text-align: right;\n",
       "    }\n",
       "</style>\n",
       "<table border=\"1\" class=\"dataframe\">\n",
       "  <thead>\n",
       "    <tr style=\"text-align: right;\">\n",
       "      <th></th>\n",
       "      <th>LR</th>\n",
       "      <th>GBM</th>\n",
       "      <th>RF</th>\n",
       "      <th>KNN</th>\n",
       "      <th>XGB</th>\n",
       "      <th>TREE</th>\n",
       "      <th>LGBM</th>\n",
       "    </tr>\n",
       "  </thead>\n",
       "  <tbody>\n",
       "    <tr>\n",
       "      <th>accuracy</th>\n",
       "      <td>0.714224</td>\n",
       "      <td>0.721514</td>\n",
       "      <td>0.716797</td>\n",
       "      <td>0.668989</td>\n",
       "      <td>0.704041</td>\n",
       "      <td>0.619466</td>\n",
       "      <td>0.718191</td>\n",
       "    </tr>\n",
       "    <tr>\n",
       "      <th>precision</th>\n",
       "      <td>0.571429</td>\n",
       "      <td>0.646586</td>\n",
       "      <td>0.552727</td>\n",
       "      <td>0.357679</td>\n",
       "      <td>0.457306</td>\n",
       "      <td>0.339305</td>\n",
       "      <td>0.542339</td>\n",
       "    </tr>\n",
       "    <tr>\n",
       "      <th>recall</th>\n",
       "      <td>0.007488</td>\n",
       "      <td>0.060277</td>\n",
       "      <td>0.056908</td>\n",
       "      <td>0.196181</td>\n",
       "      <td>0.180457</td>\n",
       "      <td>0.347435</td>\n",
       "      <td>0.100711</td>\n",
       "    </tr>\n",
       "    <tr>\n",
       "      <th>f1</th>\n",
       "      <td>0.014782</td>\n",
       "      <td>0.110274</td>\n",
       "      <td>0.103191</td>\n",
       "      <td>0.253385</td>\n",
       "      <td>0.258792</td>\n",
       "      <td>0.343322</td>\n",
       "      <td>0.169877</td>\n",
       "    </tr>\n",
       "    <tr>\n",
       "      <th>roc-auc</th>\n",
       "      <td>0.603077</td>\n",
       "      <td>0.662349</td>\n",
       "      <td>0.645247</td>\n",
       "      <td>0.557543</td>\n",
       "      <td>0.637926</td>\n",
       "      <td>0.538016</td>\n",
       "      <td>0.661267</td>\n",
       "    </tr>\n",
       "  </tbody>\n",
       "</table>\n",
       "</div>"
      ],
      "text/plain": [
       "                 LR       GBM        RF       KNN       XGB      TREE  \\\n",
       "accuracy   0.714224  0.721514  0.716797  0.668989  0.704041  0.619466   \n",
       "precision  0.571429  0.646586  0.552727  0.357679  0.457306  0.339305   \n",
       "recall     0.007488  0.060277  0.056908  0.196181  0.180457  0.347435   \n",
       "f1         0.014782  0.110274  0.103191  0.253385  0.258792  0.343322   \n",
       "roc-auc    0.603077  0.662349  0.645247  0.557543  0.637926  0.538016   \n",
       "\n",
       "               LGBM  \n",
       "accuracy   0.718191  \n",
       "precision  0.542339  \n",
       "recall     0.100711  \n",
       "f1         0.169877  \n",
       "roc-auc    0.661267  "
      ]
     },
     "execution_count": 19,
     "metadata": {},
     "output_type": "execute_result"
    }
   ],
   "source": [
    "import pandas as pd\n",
    "pd.DataFrame(baseline_result_valid_dict, index=['accuracy', 'precision', 'recall', 'f1', 'roc-auc'])"
   ]
  },
  {
   "cell_type": "code",
   "execution_count": 20,
   "id": "a02c90b7-ea5e-49ad-85cd-c81102f89dd4",
   "metadata": {},
   "outputs": [],
   "source": [
    "import joblib\n",
    "import os\n",
    "\n",
    "os.makedirs('models', exist_ok=True)"
   ]
  },
  {
   "cell_type": "code",
   "execution_count": 40,
   "id": "b5719057-c8b6-4a20-b4a2-2329efa9c4ce",
   "metadata": {},
   "outputs": [
    {
     "name": "stdout",
     "output_type": "stream",
     "text": [
      "DecisionTreeClassifier 튜닝...\n",
      "XGBClassifier 튜닝...\n"
     ]
    }
   ],
   "source": [
    "from sklearn.model_selection import RandomizedSearchCV, GridSearchCV\n",
    "from sklearn.tree import DecisionTreeClassifier\n",
    "from xgboost import XGBClassifier\n",
    "\n",
    "# DecisionTreeClassifier에 맞는 하이퍼파라미터 범위 설정\n",
    "param_dtree = {\n",
    "    'max_depth': range(1, 21),              # 트리의 최대 깊이\n",
    "    'min_samples_split': range(2, 21),     # 노드를 분할하기 위한 최소 샘플 수\n",
    "    'min_samples_leaf': range(1, 21),      # 리프 노드에 있어야 하는 최소 샘플 수\n",
    "    'criterion': ['gini', 'entropy'],      # 분할 기준\n",
    "    'max_features': [None, 'sqrt', 'log2'] # 선택할 특성의 개수\n",
    "}\n",
    "\n",
    "param_xgb = {\n",
    "    'learning_rate': [0.001, 0.01, 0.1, 0.2,],\n",
    "    'n_estimators': [1000, 2000, 3000, 4000, 5000, 6000],\n",
    "    'max_depth': range(1, 7),\n",
    "    'subsample': [0.5, 0.6, 0.7, 0.8, 0.9, 1]\n",
    "}\n",
    "\n",
    "# Initialize RandomizedSearchCV for each model\n",
    "random_search_dtree = RandomizedSearchCV(DecisionTreeClassifier(random_state=0),param_dtree, cv=4, scoring='f1', n_jobs=-1, n_iter=60, random_state=0)\n",
    "random_search_xgb = RandomizedSearchCV(XGBClassifier(random_state=0), param_xgb, cv=4, scoring='f1', n_jobs=-1, n_iter=60, random_state=0)\n",
    "\n",
    "print(\"DecisionTreeClassifier 튜닝...\")\n",
    "random_search_dtree.fit(X_train, y_train)\n",
    "\n",
    "print(\"XGBClassifier 튜닝...\")\n",
    "random_search_xgb.fit(X_train, y_train);"
   ]
  },
  {
   "cell_type": "code",
   "execution_count": 31,
   "id": "87a9e484-ad43-430e-9270-7c29701a4475",
   "metadata": {},
   "outputs": [
    {
     "name": "stdout",
     "output_type": "stream",
     "text": [
      "DecisionTreeClassifier Best parameters: {'min_samples_split': 11, 'min_samples_leaf': 13, 'max_features': None, 'max_depth': 19, 'criterion': 'gini'}\n",
      "XGBClassifier Best parameters: {'subsample': 1, 'n_estimators': 5000, 'max_depth': 4, 'learning_rate': 0.2}\n"
     ]
    }
   ],
   "source": [
    "## Best parameter 확인\n",
    "print(\"DecisionTreeClassifier Best parameters:\", random_search_dtree.best_params_)\n",
    "print(\"XGBClassifier Best parameters:\", random_search_xgb.best_params_)"
   ]
  },
  {
   "cell_type": "code",
   "execution_count": 32,
   "id": "99e7c846-8a3f-40a1-988c-788269927d70",
   "metadata": {},
   "outputs": [
    {
     "name": "stdout",
     "output_type": "stream",
     "text": [
      "DecisionTreeClassifier Best score: 0.31162699122128873\n",
      "XGBClassifier Best score: 0.3242989028195077\n"
     ]
    }
   ],
   "source": [
    "print(\"DecisionTreeClassifier Best score:\", random_search_dtree.best_score_)\n",
    "print(\"XGBClassifier Best score:\", random_search_xgb.best_score_)"
   ]
  },
  {
   "cell_type": "code",
   "execution_count": 36,
   "id": "c68d9b26-21ac-4eb8-a00e-396663601446",
   "metadata": {},
   "outputs": [],
   "source": [
    "best_dtree = random_search_dtree.best_estimator_\n",
    "best_xgb = random_search_xgb.best_estimator_"
   ]
  },
  {
   "cell_type": "code",
   "execution_count": 37,
   "id": "f0238a58-e3ee-433c-bf1c-862aa46c7137",
   "metadata": {},
   "outputs": [
    {
     "name": "stdout",
     "output_type": "stream",
     "text": [
      "Models saved successfully.\n"
     ]
    }
   ],
   "source": [
    "import joblib\n",
    "joblib.dump(best_dtree, 'models/best_dtree.pkl')\n",
    "joblib.dump(best_xgb, 'models/best_xgb.pkl')\n",
    "\n",
    "print(\"Models saved successfully.\")"
   ]
  },
  {
   "cell_type": "code",
   "execution_count": 38,
   "id": "ffc7e0f9-dd40-4931-b049-e377fb3b4a13",
   "metadata": {},
   "outputs": [
    {
     "name": "stdout",
     "output_type": "stream",
     "text": [
      "평가 DecisionTreeClassifier...\n",
      "평가 XGBClassifier...\n"
     ]
    }
   ],
   "source": [
    "best_models = [\n",
    "    (\"DecisionTreeClassifier\", best_dtree),\n",
    "    (\"XGBClassifier\", best_xgb)\n",
    "]\n",
    "\n",
    "test_results = {}\n",
    "\n",
    "for name, model in best_models:\n",
    "    print(f\"평가 {name}...\")\n",
    "    pred_test = model.predict(X_test)\n",
    "    pred_proba_test = model.predict_proba(X_test)[:, 1]\n",
    "\n",
    "    accuracy_test = accuracy_score(y_test, pred_test)\n",
    "    precision_test = precision_score(y_test, pred_test)\n",
    "    recall_test = recall_score(y_test, pred_test)\n",
    "    f1_test = f1_score(y_test, pred_test)\n",
    "    auc_test = roc_auc_score(y_test, pred_proba_test)\n",
    "    \n",
    "    test_results[name] = [accuracy_test, precision_test, recall_test, f1_test, auc_test]"
   ]
  },
  {
   "cell_type": "code",
   "execution_count": 39,
   "id": "481a2d23-c1ed-46c6-9b5b-fb743b0d4eac",
   "metadata": {},
   "outputs": [
    {
     "data": {
      "text/html": [
       "<div>\n",
       "<style scoped>\n",
       "    .dataframe tbody tr th:only-of-type {\n",
       "        vertical-align: middle;\n",
       "    }\n",
       "\n",
       "    .dataframe tbody tr th {\n",
       "        vertical-align: top;\n",
       "    }\n",
       "\n",
       "    .dataframe thead th {\n",
       "        text-align: right;\n",
       "    }\n",
       "</style>\n",
       "<table border=\"1\" class=\"dataframe\">\n",
       "  <thead>\n",
       "    <tr style=\"text-align: right;\">\n",
       "      <th></th>\n",
       "      <th>DecisionTreeClassifier</th>\n",
       "      <th>XGBClassifier</th>\n",
       "    </tr>\n",
       "  </thead>\n",
       "  <tbody>\n",
       "    <tr>\n",
       "      <th>accuracy</th>\n",
       "      <td>0.662888</td>\n",
       "      <td>0.684354</td>\n",
       "    </tr>\n",
       "    <tr>\n",
       "      <th>precision</th>\n",
       "      <td>0.379573</td>\n",
       "      <td>0.419284</td>\n",
       "    </tr>\n",
       "    <tr>\n",
       "      <th>recall</th>\n",
       "      <td>0.279697</td>\n",
       "      <td>0.266217</td>\n",
       "    </tr>\n",
       "    <tr>\n",
       "      <th>f1</th>\n",
       "      <td>0.322070</td>\n",
       "      <td>0.325661</td>\n",
       "    </tr>\n",
       "    <tr>\n",
       "      <th>roc-auc</th>\n",
       "      <td>0.581006</td>\n",
       "      <td>0.613711</td>\n",
       "    </tr>\n",
       "  </tbody>\n",
       "</table>\n",
       "</div>"
      ],
      "text/plain": [
       "           DecisionTreeClassifier  XGBClassifier\n",
       "accuracy                 0.662888       0.684354\n",
       "precision                0.379573       0.419284\n",
       "recall                   0.279697       0.266217\n",
       "f1                       0.322070       0.325661\n",
       "roc-auc                  0.581006       0.613711"
      ]
     },
     "execution_count": 39,
     "metadata": {},
     "output_type": "execute_result"
    }
   ],
   "source": [
    "pd.DataFrame(test_results, index=['accuracy', 'precision', 'recall', 'f1', 'roc-auc'])"
   ]
  },
  {
   "cell_type": "code",
   "execution_count": 25,
   "id": "5e136d54-7278-4118-b6a6-9672b72ddc79",
   "metadata": {},
   "outputs": [
    {
     "name": "stderr",
     "output_type": "stream",
     "text": [
      "C:\\Users\\Playdata\\miniconda3\\envs\\ml\\Lib\\site-packages\\sklearn\\linear_model\\_logistic.py:469: ConvergenceWarning: lbfgs failed to converge (status=1):\n",
      "STOP: TOTAL NO. of ITERATIONS REACHED LIMIT.\n",
      "\n",
      "Increase the number of iterations (max_iter) or scale the data as shown in:\n",
      "    https://scikit-learn.org/stable/modules/preprocessing.html\n",
      "Please also refer to the documentation for alternative solver options:\n",
      "    https://scikit-learn.org/stable/modules/linear_model.html#logistic-regression\n",
      "  n_iter_i = _check_optimize_result(\n"
     ]
    },
    {
     "data": {
      "image/png": "[encoded data removed]",
      "text/plain": [
       "<Figure size 1000x600 with 1 Axes>"
      ]
     },
     "metadata": {},
     "output_type": "display_data"
    }
   ],
   "source": [
    "#LogisticRegression을 통한 Feature Importance 시각화 \n",
    "import matplotlib.pyplot as plt\n",
    "import numpy as np\n",
    "\n",
    "model_lr = LogisticRegression(random_state=0, max_iter=3000)\n",
    "\n",
    "model_lr.fit(X_train, y_train)\n",
    "\n",
    "# coefficient\n",
    "\n",
    "coefficients = model_lr.coef_[0]\n",
    "indices = np.argsort(np.abs(coefficients))  \n",
    "plt.figure(figsize=(10, 6))\n",
    "plt.title(\"Feature Importance (LR)\")\n",
    "plt.barh(range(len(indices)), coefficients[indices], align=\"center\")\n",
    "plt.yticks(range(len(indices)), [X_train.columns[i] for i in indices])\n",
    "plt.xlabel(\"Coefficient Value\")\n",
    "plt.show()"
   ]
  },
  {
   "cell_type": "code",
   "execution_count": null,
   "id": "b018f147-ec8c-478f-8868-fdf034fb0780",
   "metadata": {},
   "outputs": [],
   "source": []
  }
 ],
 "metadata": {
  "kernelspec": {
   "display_name": "Python 3 (ipykernel)",
   "language": "python",
   "name": "python3"
  },
  "language_info": {
   "codemirror_mode": {
    "name": "ipython",
    "version": 3
   },
   "file_extension": ".py",
   "mimetype": "text/x-python",
   "name": "python",
   "nbconvert_exporter": "python",
   "pygments_lexer": "ipython3",
   "version": "3.12.7"
  }
 },
 "nbformat": 4,
 "nbformat_minor": 5
}
